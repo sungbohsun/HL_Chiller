{
 "cells": [
  {
   "cell_type": "code",
   "execution_count": 1,
   "metadata": {},
   "outputs": [],
   "source": [
    "##training\n",
    "import os,pickle\n",
    "import pandas as pd\n",
    "from utils.DataProcess import Start\n",
    "from utils.ClooingTowerOptimize import CT_opt\n",
    "\n",
    "opt = CT_opt()\n",
    "opt.df = Start('HL_8')\n",
    "\n",
    "# opt.train()\n",
    "# with open(os.path.join('model','regr.pkl'), 'wb') as f:\n",
    "#     pickle.dump(opt, f)"
   ]
  },
  {
   "cell_type": "code",
   "execution_count": 14,
   "metadata": {},
   "outputs": [
    {
     "data": {
      "text/plain": [
       "67      48.099998\n",
       "68      48.099998\n",
       "69      48.099998\n",
       "70      48.099998\n",
       "71      48.099998\n",
       "          ...    \n",
       "4381    45.099998\n",
       "4382    45.099998\n",
       "4383    45.099998\n",
       "4384    45.099998\n",
       "4385    45.099998\n",
       "Length: 4319, dtype: float64"
      ]
     },
     "execution_count": 14,
     "metadata": {},
     "output_type": "execute_result"
    }
   ],
   "source": [
    "opt.df[[f'CT_{C:02d}_VFD' for C in range(1,14,2)]].max(axis=1)"
   ]
  },
  {
   "cell_type": "code",
   "execution_count": 6,
   "metadata": {},
   "outputs": [],
   "source": [
    "import subprocess\n",
    "def run_command(command, **kwargs):\n",
    "    \"\"\"Run a command while printing the live output\"\"\"\n",
    "    process = subprocess.Popen(\n",
    "        command,\n",
    "        stdout=subprocess.PIPE,\n",
    "        stderr=subprocess.STDOUT,\n",
    "        **kwargs,\n",
    "    )\n",
    "    while True:   # Could be more pythonic with := in Python3.8+\n",
    "        line = process.stdout.readline()\n",
    "        if not line and process.poll() is not None:\n",
    "            break\n",
    "        print(line.decode(), end='')"
   ]
  },
  {
   "cell_type": "code",
   "execution_count": 8,
   "metadata": {},
   "outputs": [
    {
     "name": "stdout",
     "output_type": "stream",
     "text": [
      "0\n",
      "1\n",
      "2\n",
      "3\n",
      "4\n",
      "5\n"
     ]
    }
   ],
   "source": [
    "run_command(['python', 'tt.py'])"
   ]
  },
  {
   "cell_type": "code",
   "execution_count": null,
   "metadata": {},
   "outputs": [],
   "source": []
  }
 ],
 "metadata": {
  "kernelspec": {
   "display_name": "Python 3.9.12 ('base')",
   "language": "python",
   "name": "python3"
  },
  "language_info": {
   "codemirror_mode": {
    "name": "ipython",
    "version": 3
   },
   "file_extension": ".py",
   "mimetype": "text/x-python",
   "name": "python",
   "nbconvert_exporter": "python",
   "pygments_lexer": "ipython3",
   "version": "3.9.12"
  },
  "orig_nbformat": 4,
  "vscode": {
   "interpreter": {
    "hash": "d034d15d2d7c1acffba98addf437dac9bfe233e75f6296b02d1e12801ba0fe1a"
   }
  }
 },
 "nbformat": 4,
 "nbformat_minor": 2
}
