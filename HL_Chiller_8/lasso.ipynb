{
 "cells": [
  {
   "cell_type": "code",
   "execution_count": 6,
   "metadata": {},
   "outputs": [],
   "source": [
    "import os\n",
    "import pandas as pd\n",
    "from utils.DataProcess import Start"
   ]
  },
  {
   "cell_type": "code",
   "execution_count": 7,
   "metadata": {},
   "outputs": [],
   "source": [
    "df = Start('HL_8')"
   ]
  },
  {
   "cell_type": "code",
   "execution_count": 8,
   "metadata": {},
   "outputs": [],
   "source": [
    "cols = [\n",
    " 'OA_TT1',\n",
    " 'OA_MT1',\n",
    " 'Enthalpy',\n",
    " 'OA_TT2',\n",
    " 'OA_MT2',\n",
    " 'OA_E2',\n",
    " 'CHP_PDTA',\n",
    " 'CHP_PDTB',\n",
    " 'CHP_FT',\n",
    " 'chiller_RT',\n",
    " 'CHP_PDT_PV',\n",
    " 'CHP_VFD_OUT',\n",
    " 'chiller_supply_temp',\n",
    " 'chiller_return_temp',\n",
    " 'CWP_FT',\n",
    " 'CT_TDT_PV',\n",
    " 'CT_VFD_OUT',\n",
    " 'condenser_supply_temp',\n",
    " 'condenser_return_temp',\n",
    " 'CT_IN_TTB',\n",
    " 'CWP_TDT_PV',\n",
    " 'CWP_VFD_OUT',\n",
    " 'CT_WDT_A',\n",
    " 'Wet_bulb_temp',\n",
    " 'condenser_temp_diff',\n",
    " 'loading',\n",
    " 'Approach',\n",
    " 'CT_eff',\n",
    " ]"
   ]
  },
  {
   "cell_type": "code",
   "execution_count": 9,
   "metadata": {},
   "outputs": [
    {
     "data": {
      "text/html": [
       "<div>\n",
       "<style scoped>\n",
       "    .dataframe tbody tr th:only-of-type {\n",
       "        vertical-align: middle;\n",
       "    }\n",
       "\n",
       "    .dataframe tbody tr th {\n",
       "        vertical-align: top;\n",
       "    }\n",
       "\n",
       "    .dataframe thead th {\n",
       "        text-align: right;\n",
       "    }\n",
       "</style>\n",
       "<table border=\"1\" class=\"dataframe\">\n",
       "  <thead>\n",
       "    <tr style=\"text-align: right;\">\n",
       "      <th></th>\n",
       "      <th>0</th>\n",
       "    </tr>\n",
       "  </thead>\n",
       "  <tbody>\n",
       "    <tr>\n",
       "      <th>CT_eff</th>\n",
       "      <td>9</td>\n",
       "    </tr>\n",
       "    <tr>\n",
       "      <th>OA_MT1</th>\n",
       "      <td>0</td>\n",
       "    </tr>\n",
       "    <tr>\n",
       "      <th>Approach</th>\n",
       "      <td>0</td>\n",
       "    </tr>\n",
       "    <tr>\n",
       "      <th>loading</th>\n",
       "      <td>0</td>\n",
       "    </tr>\n",
       "    <tr>\n",
       "      <th>condenser_temp_diff</th>\n",
       "      <td>0</td>\n",
       "    </tr>\n",
       "    <tr>\n",
       "      <th>Wet_bulb_temp</th>\n",
       "      <td>0</td>\n",
       "    </tr>\n",
       "    <tr>\n",
       "      <th>CT_WDT_A</th>\n",
       "      <td>0</td>\n",
       "    </tr>\n",
       "    <tr>\n",
       "      <th>CWP_VFD_OUT</th>\n",
       "      <td>0</td>\n",
       "    </tr>\n",
       "    <tr>\n",
       "      <th>CWP_TDT_PV</th>\n",
       "      <td>0</td>\n",
       "    </tr>\n",
       "    <tr>\n",
       "      <th>CT_IN_TTB</th>\n",
       "      <td>0</td>\n",
       "    </tr>\n",
       "    <tr>\n",
       "      <th>condenser_return_temp</th>\n",
       "      <td>0</td>\n",
       "    </tr>\n",
       "    <tr>\n",
       "      <th>condenser_supply_temp</th>\n",
       "      <td>0</td>\n",
       "    </tr>\n",
       "    <tr>\n",
       "      <th>CT_VFD_OUT</th>\n",
       "      <td>0</td>\n",
       "    </tr>\n",
       "    <tr>\n",
       "      <th>CT_TDT_PV</th>\n",
       "      <td>0</td>\n",
       "    </tr>\n",
       "    <tr>\n",
       "      <th>OA_TT1</th>\n",
       "      <td>0</td>\n",
       "    </tr>\n",
       "    <tr>\n",
       "      <th>chiller_return_temp</th>\n",
       "      <td>0</td>\n",
       "    </tr>\n",
       "    <tr>\n",
       "      <th>chiller_supply_temp</th>\n",
       "      <td>0</td>\n",
       "    </tr>\n",
       "    <tr>\n",
       "      <th>CHP_VFD_OUT</th>\n",
       "      <td>0</td>\n",
       "    </tr>\n",
       "    <tr>\n",
       "      <th>CHP_PDT_PV</th>\n",
       "      <td>0</td>\n",
       "    </tr>\n",
       "    <tr>\n",
       "      <th>chiller_RT</th>\n",
       "      <td>0</td>\n",
       "    </tr>\n",
       "    <tr>\n",
       "      <th>CHP_FT</th>\n",
       "      <td>0</td>\n",
       "    </tr>\n",
       "    <tr>\n",
       "      <th>CHP_PDTB</th>\n",
       "      <td>0</td>\n",
       "    </tr>\n",
       "    <tr>\n",
       "      <th>CHP_PDTA</th>\n",
       "      <td>0</td>\n",
       "    </tr>\n",
       "    <tr>\n",
       "      <th>OA_E2</th>\n",
       "      <td>0</td>\n",
       "    </tr>\n",
       "    <tr>\n",
       "      <th>OA_MT2</th>\n",
       "      <td>0</td>\n",
       "    </tr>\n",
       "    <tr>\n",
       "      <th>OA_TT2</th>\n",
       "      <td>0</td>\n",
       "    </tr>\n",
       "    <tr>\n",
       "      <th>Enthalpy</th>\n",
       "      <td>0</td>\n",
       "    </tr>\n",
       "    <tr>\n",
       "      <th>CWP_FT</th>\n",
       "      <td>0</td>\n",
       "    </tr>\n",
       "  </tbody>\n",
       "</table>\n",
       "</div>"
      ],
      "text/plain": [
       "                       0\n",
       "CT_eff                 9\n",
       "OA_MT1                 0\n",
       "Approach               0\n",
       "loading                0\n",
       "condenser_temp_diff    0\n",
       "Wet_bulb_temp          0\n",
       "CT_WDT_A               0\n",
       "CWP_VFD_OUT            0\n",
       "CWP_TDT_PV             0\n",
       "CT_IN_TTB              0\n",
       "condenser_return_temp  0\n",
       "condenser_supply_temp  0\n",
       "CT_VFD_OUT             0\n",
       "CT_TDT_PV              0\n",
       "OA_TT1                 0\n",
       "chiller_return_temp    0\n",
       "chiller_supply_temp    0\n",
       "CHP_VFD_OUT            0\n",
       "CHP_PDT_PV             0\n",
       "chiller_RT             0\n",
       "CHP_FT                 0\n",
       "CHP_PDTB               0\n",
       "CHP_PDTA               0\n",
       "OA_E2                  0\n",
       "OA_MT2                 0\n",
       "OA_TT2                 0\n",
       "Enthalpy               0\n",
       "CWP_FT                 0"
      ]
     },
     "execution_count": 9,
     "metadata": {},
     "output_type": "execute_result"
    }
   ],
   "source": [
    "pd.DataFrame(df[cols].isna().sum(axis=0)).sort_values(0,ascending=False)"
   ]
  },
  {
   "cell_type": "code",
   "execution_count": 10,
   "metadata": {},
   "outputs": [],
   "source": [
    "import numpy as np\n",
    "import plotly.express as px\n",
    "import matplotlib.pyplot as plt\n",
    "from sklearn.preprocessing import StandardScaler\n",
    "from sklearn.model_selection import train_test_split\n",
    "from sklearn.linear_model import Lasso\n",
    "from sklearn.linear_model import LassoCV"
   ]
  },
  {
   "cell_type": "code",
   "execution_count": 11,
   "metadata": {},
   "outputs": [],
   "source": [
    "target = 'CWP_Total_KW'"
   ]
  },
  {
   "cell_type": "code",
   "execution_count": 13,
   "metadata": {},
   "outputs": [
    {
     "data": {
      "text/plain": [
       "array([[ 1.15815999, -0.49319538,  0.02361621, ...,  0.03041679,\n",
       "        -0.7508493 ,  0.73420593],\n",
       "       [ 1.24083981, -0.45386307,  0.07894547, ...,  0.03041657,\n",
       "        -0.49886995,  0.39067916],\n",
       "       [ 1.21787501, -0.49784187,  0.04996552, ...,  0.04752379,\n",
       "        -0.56885683,  0.52917305],\n",
       "       ...,\n",
       "       [-0.43112213, -0.86184567, -0.78046587, ..., -0.92759005,\n",
       "         1.26498365, -1.19977069],\n",
       "       [-0.3851895 , -0.89432099, -0.78884514, ..., -0.93899493,\n",
       "         1.22298894, -1.18206398],\n",
       "       [-0.38978343, -0.85943489, -0.76739778, ..., -0.90478028,\n",
       "         1.29298689, -1.23644309]])"
      ]
     },
     "execution_count": 13,
     "metadata": {},
     "output_type": "execute_result"
    }
   ],
   "source": [
    "X_sc"
   ]
  },
  {
   "cell_type": "code",
   "execution_count": 20,
   "metadata": {},
   "outputs": [
    {
     "name": "stderr",
     "output_type": "stream",
     "text": [
      "C:\\Users\\sung\\AppData\\Local\\Temp\\ipykernel_17660\\143864822.py:1: UserWarning: Pandas doesn't allow columns to be created via a new attribute name - see https://pandas.pydata.org/pandas-docs/stable/indexing.html#attribute-access\n",
      "  data[cols] = data[cols].vaules=X_sc\n"
     ]
    }
   ],
   "source": [
    "data[cols] = data[cols].vaules=X_sc"
   ]
  },
  {
   "cell_type": "code",
   "execution_count": 21,
   "metadata": {},
   "outputs": [
    {
     "data": {
      "text/html": [
       "<div>\n",
       "<style scoped>\n",
       "    .dataframe tbody tr th:only-of-type {\n",
       "        vertical-align: middle;\n",
       "    }\n",
       "\n",
       "    .dataframe tbody tr th {\n",
       "        vertical-align: top;\n",
       "    }\n",
       "\n",
       "    .dataframe thead th {\n",
       "        text-align: right;\n",
       "    }\n",
       "</style>\n",
       "<table border=\"1\" class=\"dataframe\">\n",
       "  <thead>\n",
       "    <tr style=\"text-align: right;\">\n",
       "      <th></th>\n",
       "      <th>OA_TT1</th>\n",
       "      <th>OA_MT1</th>\n",
       "      <th>Enthalpy</th>\n",
       "      <th>OA_TT2</th>\n",
       "      <th>OA_MT2</th>\n",
       "      <th>OA_E2</th>\n",
       "      <th>CHP_PDTA</th>\n",
       "      <th>CHP_PDTB</th>\n",
       "      <th>CHP_FT</th>\n",
       "      <th>chiller_RT</th>\n",
       "      <th>...</th>\n",
       "      <th>condenser_return_temp</th>\n",
       "      <th>CT_IN_TTB</th>\n",
       "      <th>CWP_TDT_PV</th>\n",
       "      <th>CWP_VFD_OUT</th>\n",
       "      <th>CT_WDT_A</th>\n",
       "      <th>Wet_bulb_temp</th>\n",
       "      <th>condenser_temp_diff</th>\n",
       "      <th>loading</th>\n",
       "      <th>Approach</th>\n",
       "      <th>CT_eff</th>\n",
       "    </tr>\n",
       "  </thead>\n",
       "  <tbody>\n",
       "    <tr>\n",
       "      <th>76</th>\n",
       "      <td>1.158160</td>\n",
       "      <td>-0.493195</td>\n",
       "      <td>0.023616</td>\n",
       "      <td>1.128902</td>\n",
       "      <td>-0.539537</td>\n",
       "      <td>-0.037150</td>\n",
       "      <td>-0.067331</td>\n",
       "      <td>0.474026</td>\n",
       "      <td>0.893460</td>\n",
       "      <td>0.290095</td>\n",
       "      <td>...</td>\n",
       "      <td>-0.450028</td>\n",
       "      <td>-0.445761</td>\n",
       "      <td>0.015836</td>\n",
       "      <td>0.0</td>\n",
       "      <td>-0.491294</td>\n",
       "      <td>-0.060792</td>\n",
       "      <td>-0.068673</td>\n",
       "      <td>0.030417</td>\n",
       "      <td>-0.750849</td>\n",
       "      <td>0.734206</td>\n",
       "    </tr>\n",
       "    <tr>\n",
       "      <th>77</th>\n",
       "      <td>1.240840</td>\n",
       "      <td>-0.453863</td>\n",
       "      <td>0.078945</td>\n",
       "      <td>1.194234</td>\n",
       "      <td>-0.505904</td>\n",
       "      <td>0.028666</td>\n",
       "      <td>0.355693</td>\n",
       "      <td>0.885995</td>\n",
       "      <td>0.950243</td>\n",
       "      <td>0.219810</td>\n",
       "      <td>...</td>\n",
       "      <td>-0.443280</td>\n",
       "      <td>-0.411983</td>\n",
       "      <td>-0.022357</td>\n",
       "      <td>0.0</td>\n",
       "      <td>-0.445710</td>\n",
       "      <td>-0.113550</td>\n",
       "      <td>-0.381047</td>\n",
       "      <td>0.030417</td>\n",
       "      <td>-0.498870</td>\n",
       "      <td>0.390679</td>\n",
       "    </tr>\n",
       "    <tr>\n",
       "      <th>78</th>\n",
       "      <td>1.217875</td>\n",
       "      <td>-0.497842</td>\n",
       "      <td>0.049966</td>\n",
       "      <td>1.161568</td>\n",
       "      <td>-0.538664</td>\n",
       "      <td>-0.017219</td>\n",
       "      <td>-0.490343</td>\n",
       "      <td>-0.762267</td>\n",
       "      <td>0.804226</td>\n",
       "      <td>0.161664</td>\n",
       "      <td>...</td>\n",
       "      <td>-0.362316</td>\n",
       "      <td>-0.317412</td>\n",
       "      <td>0.008195</td>\n",
       "      <td>0.0</td>\n",
       "      <td>-0.391007</td>\n",
       "      <td>-0.071346</td>\n",
       "      <td>0.020560</td>\n",
       "      <td>0.047524</td>\n",
       "      <td>-0.568857</td>\n",
       "      <td>0.529173</td>\n",
       "    </tr>\n",
       "    <tr>\n",
       "      <th>79</th>\n",
       "      <td>1.250028</td>\n",
       "      <td>-0.480660</td>\n",
       "      <td>0.070353</td>\n",
       "      <td>1.240899</td>\n",
       "      <td>-0.476322</td>\n",
       "      <td>0.076576</td>\n",
       "      <td>-0.067331</td>\n",
       "      <td>0.061816</td>\n",
       "      <td>0.942134</td>\n",
       "      <td>0.271129</td>\n",
       "      <td>...</td>\n",
       "      <td>-0.335327</td>\n",
       "      <td>-0.317412</td>\n",
       "      <td>0.046393</td>\n",
       "      <td>0.0</td>\n",
       "      <td>-0.377332</td>\n",
       "      <td>-0.055516</td>\n",
       "      <td>0.199059</td>\n",
       "      <td>0.050375</td>\n",
       "      <td>-0.610861</td>\n",
       "      <td>0.602881</td>\n",
       "    </tr>\n",
       "    <tr>\n",
       "      <th>80</th>\n",
       "      <td>1.199502</td>\n",
       "      <td>-0.463227</td>\n",
       "      <td>0.059934</td>\n",
       "      <td>1.189570</td>\n",
       "      <td>-0.463905</td>\n",
       "      <td>0.047852</td>\n",
       "      <td>-0.067331</td>\n",
       "      <td>0.061816</td>\n",
       "      <td>0.901572</td>\n",
       "      <td>0.414960</td>\n",
       "      <td>...</td>\n",
       "      <td>-0.382556</td>\n",
       "      <td>-0.371454</td>\n",
       "      <td>0.076951</td>\n",
       "      <td>0.0</td>\n",
       "      <td>-0.409241</td>\n",
       "      <td>0.007792</td>\n",
       "      <td>-0.068702</td>\n",
       "      <td>0.081738</td>\n",
       "      <td>-0.792835</td>\n",
       "      <td>0.785809</td>\n",
       "    </tr>\n",
       "    <tr>\n",
       "      <th>...</th>\n",
       "      <td>...</td>\n",
       "      <td>...</td>\n",
       "      <td>...</td>\n",
       "      <td>...</td>\n",
       "      <td>...</td>\n",
       "      <td>...</td>\n",
       "      <td>...</td>\n",
       "      <td>...</td>\n",
       "      <td>...</td>\n",
       "      <td>...</td>\n",
       "      <td>...</td>\n",
       "      <td>...</td>\n",
       "      <td>...</td>\n",
       "      <td>...</td>\n",
       "      <td>...</td>\n",
       "      <td>...</td>\n",
       "      <td>...</td>\n",
       "      <td>...</td>\n",
       "      <td>...</td>\n",
       "      <td>...</td>\n",
       "      <td>...</td>\n",
       "    </tr>\n",
       "    <tr>\n",
       "      <th>4390</th>\n",
       "      <td>-0.509210</td>\n",
       "      <td>-0.896232</td>\n",
       "      <td>-0.830795</td>\n",
       "      <td>-0.644382</td>\n",
       "      <td>-0.910756</td>\n",
       "      <td>-0.835044</td>\n",
       "      <td>1.624790</td>\n",
       "      <td>0.885995</td>\n",
       "      <td>-0.274671</td>\n",
       "      <td>-0.136054</td>\n",
       "      <td>...</td>\n",
       "      <td>-0.409546</td>\n",
       "      <td>-0.418740</td>\n",
       "      <td>-1.107126</td>\n",
       "      <td>0.0</td>\n",
       "      <td>-0.755687</td>\n",
       "      <td>-0.926023</td>\n",
       "      <td>0.154428</td>\n",
       "      <td>-0.910483</td>\n",
       "      <td>1.558958</td>\n",
       "      <td>-1.413549</td>\n",
       "    </tr>\n",
       "    <tr>\n",
       "      <th>4391</th>\n",
       "      <td>-0.509210</td>\n",
       "      <td>-0.911964</td>\n",
       "      <td>-0.842825</td>\n",
       "      <td>-0.588382</td>\n",
       "      <td>-0.880468</td>\n",
       "      <td>-0.821561</td>\n",
       "      <td>0.355693</td>\n",
       "      <td>0.474026</td>\n",
       "      <td>-0.169213</td>\n",
       "      <td>-0.045455</td>\n",
       "      <td>...</td>\n",
       "      <td>-0.416294</td>\n",
       "      <td>-0.405232</td>\n",
       "      <td>-0.900869</td>\n",
       "      <td>0.0</td>\n",
       "      <td>-0.696428</td>\n",
       "      <td>-0.889093</td>\n",
       "      <td>0.466802</td>\n",
       "      <td>-0.913334</td>\n",
       "      <td>1.348975</td>\n",
       "      <td>-1.204913</td>\n",
       "    </tr>\n",
       "    <tr>\n",
       "      <th>4392</th>\n",
       "      <td>-0.431122</td>\n",
       "      <td>-0.861846</td>\n",
       "      <td>-0.780466</td>\n",
       "      <td>-0.471718</td>\n",
       "      <td>-0.826841</td>\n",
       "      <td>-0.768324</td>\n",
       "      <td>0.355693</td>\n",
       "      <td>0.061816</td>\n",
       "      <td>-0.120542</td>\n",
       "      <td>-0.023080</td>\n",
       "      <td>...</td>\n",
       "      <td>-0.483766</td>\n",
       "      <td>-0.479534</td>\n",
       "      <td>-0.900869</td>\n",
       "      <td>0.0</td>\n",
       "      <td>-0.732893</td>\n",
       "      <td>-0.867989</td>\n",
       "      <td>0.109798</td>\n",
       "      <td>-0.927590</td>\n",
       "      <td>1.264984</td>\n",
       "      <td>-1.199771</td>\n",
       "    </tr>\n",
       "    <tr>\n",
       "      <th>4393</th>\n",
       "      <td>-0.385190</td>\n",
       "      <td>-0.894321</td>\n",
       "      <td>-0.788845</td>\n",
       "      <td>-0.481053</td>\n",
       "      <td>-0.885523</td>\n",
       "      <td>-0.808483</td>\n",
       "      <td>1.201642</td>\n",
       "      <td>0.885995</td>\n",
       "      <td>-0.558591</td>\n",
       "      <td>-0.256088</td>\n",
       "      <td>...</td>\n",
       "      <td>-0.463525</td>\n",
       "      <td>-0.472782</td>\n",
       "      <td>-0.908509</td>\n",
       "      <td>0.0</td>\n",
       "      <td>-0.723778</td>\n",
       "      <td>-0.825782</td>\n",
       "      <td>0.020530</td>\n",
       "      <td>-0.938995</td>\n",
       "      <td>1.222989</td>\n",
       "      <td>-1.182064</td>\n",
       "    </tr>\n",
       "    <tr>\n",
       "      <th>4394</th>\n",
       "      <td>-0.389783</td>\n",
       "      <td>-0.859435</td>\n",
       "      <td>-0.767398</td>\n",
       "      <td>-0.462387</td>\n",
       "      <td>-0.846482</td>\n",
       "      <td>-0.780154</td>\n",
       "      <td>-0.067331</td>\n",
       "      <td>0.061816</td>\n",
       "      <td>-0.518029</td>\n",
       "      <td>-0.094308</td>\n",
       "      <td>...</td>\n",
       "      <td>-0.396054</td>\n",
       "      <td>-0.405232</td>\n",
       "      <td>-0.809201</td>\n",
       "      <td>0.0</td>\n",
       "      <td>-0.687310</td>\n",
       "      <td>-0.799405</td>\n",
       "      <td>0.020530</td>\n",
       "      <td>-0.904780</td>\n",
       "      <td>1.292987</td>\n",
       "      <td>-1.236443</td>\n",
       "    </tr>\n",
       "  </tbody>\n",
       "</table>\n",
       "<p>4310 rows × 28 columns</p>\n",
       "</div>"
      ],
      "text/plain": [
       "        OA_TT1    OA_MT1  Enthalpy    OA_TT2    OA_MT2     OA_E2  CHP_PDTA  \\\n",
       "76    1.158160 -0.493195  0.023616  1.128902 -0.539537 -0.037150 -0.067331   \n",
       "77    1.240840 -0.453863  0.078945  1.194234 -0.505904  0.028666  0.355693   \n",
       "78    1.217875 -0.497842  0.049966  1.161568 -0.538664 -0.017219 -0.490343   \n",
       "79    1.250028 -0.480660  0.070353  1.240899 -0.476322  0.076576 -0.067331   \n",
       "80    1.199502 -0.463227  0.059934  1.189570 -0.463905  0.047852 -0.067331   \n",
       "...        ...       ...       ...       ...       ...       ...       ...   \n",
       "4390 -0.509210 -0.896232 -0.830795 -0.644382 -0.910756 -0.835044  1.624790   \n",
       "4391 -0.509210 -0.911964 -0.842825 -0.588382 -0.880468 -0.821561  0.355693   \n",
       "4392 -0.431122 -0.861846 -0.780466 -0.471718 -0.826841 -0.768324  0.355693   \n",
       "4393 -0.385190 -0.894321 -0.788845 -0.481053 -0.885523 -0.808483  1.201642   \n",
       "4394 -0.389783 -0.859435 -0.767398 -0.462387 -0.846482 -0.780154 -0.067331   \n",
       "\n",
       "      CHP_PDTB    CHP_FT  chiller_RT  ...  condenser_return_temp  CT_IN_TTB  \\\n",
       "76    0.474026  0.893460    0.290095  ...              -0.450028  -0.445761   \n",
       "77    0.885995  0.950243    0.219810  ...              -0.443280  -0.411983   \n",
       "78   -0.762267  0.804226    0.161664  ...              -0.362316  -0.317412   \n",
       "79    0.061816  0.942134    0.271129  ...              -0.335327  -0.317412   \n",
       "80    0.061816  0.901572    0.414960  ...              -0.382556  -0.371454   \n",
       "...        ...       ...         ...  ...                    ...        ...   \n",
       "4390  0.885995 -0.274671   -0.136054  ...              -0.409546  -0.418740   \n",
       "4391  0.474026 -0.169213   -0.045455  ...              -0.416294  -0.405232   \n",
       "4392  0.061816 -0.120542   -0.023080  ...              -0.483766  -0.479534   \n",
       "4393  0.885995 -0.558591   -0.256088  ...              -0.463525  -0.472782   \n",
       "4394  0.061816 -0.518029   -0.094308  ...              -0.396054  -0.405232   \n",
       "\n",
       "      CWP_TDT_PV  CWP_VFD_OUT  CT_WDT_A  Wet_bulb_temp  condenser_temp_diff  \\\n",
       "76      0.015836          0.0 -0.491294      -0.060792            -0.068673   \n",
       "77     -0.022357          0.0 -0.445710      -0.113550            -0.381047   \n",
       "78      0.008195          0.0 -0.391007      -0.071346             0.020560   \n",
       "79      0.046393          0.0 -0.377332      -0.055516             0.199059   \n",
       "80      0.076951          0.0 -0.409241       0.007792            -0.068702   \n",
       "...          ...          ...       ...            ...                  ...   \n",
       "4390   -1.107126          0.0 -0.755687      -0.926023             0.154428   \n",
       "4391   -0.900869          0.0 -0.696428      -0.889093             0.466802   \n",
       "4392   -0.900869          0.0 -0.732893      -0.867989             0.109798   \n",
       "4393   -0.908509          0.0 -0.723778      -0.825782             0.020530   \n",
       "4394   -0.809201          0.0 -0.687310      -0.799405             0.020530   \n",
       "\n",
       "       loading  Approach    CT_eff  \n",
       "76    0.030417 -0.750849  0.734206  \n",
       "77    0.030417 -0.498870  0.390679  \n",
       "78    0.047524 -0.568857  0.529173  \n",
       "79    0.050375 -0.610861  0.602881  \n",
       "80    0.081738 -0.792835  0.785809  \n",
       "...        ...       ...       ...  \n",
       "4390 -0.910483  1.558958 -1.413549  \n",
       "4391 -0.913334  1.348975 -1.204913  \n",
       "4392 -0.927590  1.264984 -1.199771  \n",
       "4393 -0.938995  1.222989 -1.182064  \n",
       "4394 -0.904780  1.292987 -1.236443  \n",
       "\n",
       "[4310 rows x 28 columns]"
      ]
     },
     "execution_count": 21,
     "metadata": {},
     "output_type": "execute_result"
    }
   ],
   "source": [
    "data[cols]"
   ]
  },
  {
   "cell_type": "code",
   "execution_count": 12,
   "metadata": {},
   "outputs": [
    {
     "name": "stdout",
     "output_type": "stream",
     "text": [
      "[pca] >Processing dataframe..\n",
      "[pca] >The PCA reduction is performed to capture [95.0%] explained variance using the [28] columns of the input data.\n",
      "[pca] >Fit using PCA.\n",
      "[pca] >Compute loadings and PCs.\n",
      "[pca] >Compute explained variance.\n",
      "[pca] >Number of components is [2] that covers the [95.00%] explained variance.\n",
      "[pca] >The PCA reduction is performed on the [28] columns of the input dataframe.\n",
      "[pca] >Fit using PCA.\n",
      "[pca] >Compute loadings and PCs.\n",
      "[pca] >Outlier detection using Hotelling T2 test with alpha=[0.05] and n_components=[2]\n",
      "[pca] >Outlier detection using SPE/DmodX with n_std=[2]\n"
     ]
    },
    {
     "data": {
      "text/plain": [
       "{'loadings':        OA_TT1    OA_MT1  Enthalpy    OA_TT2    OA_MT2     OA_E2      CHP_PDTA  \\\n",
       " PC1 -0.003452 -0.004009 -0.013763 -0.003432 -0.004056 -0.013863 -1.120818e-07   \n",
       " PC2  0.002296  0.000495  0.003630  0.002251  0.000483  0.003556  7.053853e-07   \n",
       " \n",
       "          CHP_PDTB    CHP_FT  chiller_RT  ...  condenser_return_temp  \\\n",
       " PC1 -2.230676e-07 -0.482086   -0.820987  ...              -0.002981   \n",
       " PC2  6.928644e-07 -0.051868   -0.320894  ...              -0.000165   \n",
       " \n",
       "      CT_IN_TTB  CWP_TDT_PV  CWP_VFD_OUT  CT_WDT_A  Wet_bulb_temp  \\\n",
       " PC1  -0.002977   -0.002624         -0.0 -0.004616      -0.003985   \n",
       " PC2  -0.000108    0.000884          0.0  0.000450       0.000876   \n",
       " \n",
       "      condenser_temp_diff   loading  Approach    CT_eff  \n",
       " PC1            -0.000301 -0.006872  0.001304 -0.000097  \n",
       " PC2            -0.000831  0.000738 -0.000211 -0.000015  \n",
       " \n",
       " [2 rows x 28 columns],\n",
       " 'PC':              PC1         PC2\n",
       " 76   -325.251352  173.497070\n",
       " 77   -326.089597  249.491699\n",
       " 78   -176.324639  -63.160946\n",
       " 79   -376.301952  335.830830\n",
       " 80   -389.368735  190.382766\n",
       " ...          ...         ...\n",
       " 4390   84.367111   62.881096\n",
       " 4391  105.968889 -183.088574\n",
       " 4392   51.282117  -68.398566\n",
       " 4393  267.748652 -200.763515\n",
       " 4394  117.629799   14.931152\n",
       " \n",
       " [4310 rows x 2 columns],\n",
       " 'explained_var': array([0.9040228 , 0.96853062, 0.99977265, 0.99994314, 0.99997228,\n",
       "        0.99998804, 0.999994  , 0.9999971 , 0.99999798, 0.99999875,\n",
       "        0.99999914, 0.99999951, 0.99999977, 0.99999993, 0.99999997,\n",
       "        0.99999999, 1.        , 1.        , 1.        , 1.        ,\n",
       "        1.        , 1.        , 1.        , 1.        , 1.        ,\n",
       "        1.        , 1.        , 1.        ]),\n",
       " 'variance_ratio': array([9.04022804e-01, 6.45078153e-02, 3.12420352e-02, 1.70481167e-04,\n",
       "        2.91410791e-05, 1.57641313e-05, 5.96224861e-06, 3.09437180e-06,\n",
       "        8.83187303e-07, 7.65147229e-07, 3.99256708e-07, 3.64233626e-07,\n",
       "        2.62712822e-07, 1.57356971e-07, 4.38626031e-08, 1.88741435e-08,\n",
       "        3.46225992e-09, 2.88101598e-09, 1.24739830e-09, 2.87785240e-10,\n",
       "        1.86218707e-10, 1.36953004e-10, 1.07145182e-10, 7.53652696e-12,\n",
       "        2.43227660e-12, 0.00000000e+00, 0.00000000e+00, 0.00000000e+00]),\n",
       " 'model': PCA(n_components=2),\n",
       " 'scaler': None,\n",
       " 'pcp': 0.999772654051997,\n",
       " 'topfeat':      PC                feature       loading  type\n",
       " 0   PC1             chiller_RT -8.209872e-01  best\n",
       " 1   PC2                 CWP_FT  9.456626e-01  best\n",
       " 2   PC1                 OA_TT1 -3.451834e-03  weak\n",
       " 3   PC1                 OA_MT1 -4.009130e-03  weak\n",
       " 4   PC1               Enthalpy -1.376320e-02  weak\n",
       " 5   PC1                 OA_TT2 -3.432211e-03  weak\n",
       " 6   PC1                 OA_MT2 -4.056012e-03  weak\n",
       " 7   PC1                  OA_E2 -1.386308e-02  weak\n",
       " 8   PC2               CHP_PDTA  7.053853e-07  weak\n",
       " 9   PC2               CHP_PDTB  6.928644e-07  weak\n",
       " 10  PC1                 CHP_FT -4.820855e-01  weak\n",
       " 11  PC1             CHP_PDT_PV -3.480229e-07  weak\n",
       " 12  PC2            CHP_VFD_OUT -3.409317e-03  weak\n",
       " 13  PC1    chiller_supply_temp -6.240428e-05  weak\n",
       " 14  PC2    chiller_return_temp -3.011277e-04  weak\n",
       " 15  PC1              CT_TDT_PV -2.680538e-03  weak\n",
       " 16  PC1             CT_VFD_OUT -6.457387e-03  weak\n",
       " 17  PC1  condenser_supply_temp -2.680668e-03  weak\n",
       " 18  PC1  condenser_return_temp -2.981203e-03  weak\n",
       " 19  PC1              CT_IN_TTB -2.976551e-03  weak\n",
       " 20  PC1             CWP_TDT_PV -2.623669e-03  weak\n",
       " 21  PC1            CWP_VFD_OUT -0.000000e+00  weak\n",
       " 22  PC1               CT_WDT_A -4.616128e-03  weak\n",
       " 23  PC1          Wet_bulb_temp -3.984687e-03  weak\n",
       " 24  PC2    condenser_temp_diff -8.305028e-04  weak\n",
       " 25  PC1                loading -6.872463e-03  weak\n",
       " 26  PC1               Approach  1.304019e-03  weak\n",
       " 27  PC1                 CT_eff -9.674528e-05  weak,\n",
       " 'outliers':        y_proba   y_score  y_bool  y_bool_spe  y_score_spe\n",
       " 76    0.681582  2.295534   False       False   368.632168\n",
       " 77    0.610683  2.691612   False       False   410.585598\n",
       " 78    0.910981  0.992170   False       False   187.295711\n",
       " 79    0.477378  3.503291   False        True   504.366440\n",
       " 80    0.594971  2.781842   False       False   433.420822\n",
       " ...        ...       ...     ...         ...          ...\n",
       " 4390  0.966002  0.573128   False       False   105.222819\n",
       " 4391  0.877134  1.205853   False       False   211.543923\n",
       " 4392  0.977273  0.460036   False       False    85.488124\n",
       " 4393  0.717896  2.097151   False       False   334.657032\n",
       " 4394  0.970493  0.530218   False       False   118.573644\n",
       " \n",
       " [4310 rows x 5 columns],\n",
       " 'outliers_params': {'paramT2': (-1.3167626308731026e-13, 192346.77368536376),\n",
       "  'paramSPE': (array([-1.48389679e-13, -8.70233506e-14]),\n",
       "   array([[3.59154828e+05, 4.95258280e-11],\n",
       "          [4.95258280e-11, 2.56279965e+04]]))}}"
      ]
     },
     "execution_count": 12,
     "metadata": {},
     "output_type": "execute_result"
    }
   ],
   "source": [
    "from pca import pca\n",
    "data = df[cols+[target]].dropna()\n",
    "X, y = data[cols], data[target]\n",
    "scaler = StandardScaler()\n",
    "X_sc = scaler.fit_transform(X)"
   ]
  },
  {
   "cell_type": "code",
   "execution_count": 28,
   "metadata": {},
   "outputs": [
    {
     "name": "stdout",
     "output_type": "stream",
     "text": [
      "[pca] >Processing dataframe..\n",
      "[pca] >The PCA reduction is performed to capture [95.0%] explained variance using the [28] columns of the input data.\n",
      "[pca] >Fit using PCA.\n",
      "[pca] >Compute loadings and PCs.\n",
      "[pca] >Compute explained variance.\n",
      "[pca] >Number of components is [8] that covers the [95.00%] explained variance.\n",
      "[pca] >The PCA reduction is performed on the [28] columns of the input dataframe.\n",
      "[pca] >Fit using PCA.\n",
      "[pca] >Compute loadings and PCs.\n",
      "[pca] >Outlier detection using Hotelling T2 test with alpha=[0.05] and n_components=[8]\n",
      "[pca] >Outlier detection using SPE/DmodX with n_std=[2]\n"
     ]
    },
    {
     "data": {
      "text/plain": [
       "{'loadings':        OA_TT1    OA_MT1  Enthalpy    OA_TT2    OA_MT2     OA_E2  CHP_PDTA  \\\n",
       " PC1 -0.194382 -0.236455 -0.239324 -0.196513 -0.236593 -0.239647  0.006548   \n",
       " PC2  0.243590  0.003403  0.084435  0.241921  0.002720  0.081778 -0.001265   \n",
       " PC3  0.083752  0.013364  0.038525  0.082904  0.013599  0.038078 -0.000106   \n",
       " PC4 -0.045548  0.024671  0.002897 -0.046253  0.023434  0.002165 -0.587752   \n",
       " PC5  0.334917 -0.107595  0.033421  0.323282 -0.106679  0.027798  0.039038   \n",
       " PC6  0.327511 -0.203833 -0.040897  0.319274 -0.202920 -0.045875 -0.032223   \n",
       " PC7 -0.006467  0.032251  0.021600 -0.002391  0.032884  0.023385  0.054022   \n",
       " PC8 -0.302815  0.057623 -0.059339 -0.304782  0.056755 -0.058214  0.052011   \n",
       " \n",
       "      CHP_PDTB    CHP_FT  chiller_RT  ...  condenser_return_temp  CT_IN_TTB  \\\n",
       " PC1  0.002835 -0.216146   -0.216790  ...              -0.233056  -0.233246   \n",
       " PC2 -0.002014 -0.064050   -0.213840  ...              -0.017543  -0.014054   \n",
       " PC3  0.000084 -0.246461   -0.035477  ...               0.184250   0.180633   \n",
       " PC4 -0.613131 -0.003068   -0.011796  ...              -0.009419  -0.009203   \n",
       " PC5  0.031173  0.112152   -0.117303  ...               0.000547  -0.001775   \n",
       " PC6 -0.040577  0.094141    0.220767  ...              -0.144719  -0.145450   \n",
       " PC7  0.075074 -0.206275   -0.102253  ...              -0.054272  -0.057537   \n",
       " PC8  0.067108  0.090479    0.041766  ...              -0.056601  -0.055679   \n",
       " \n",
       "      CWP_TDT_PV  CWP_VFD_OUT  CT_WDT_A  Wet_bulb_temp  condenser_temp_diff  \\\n",
       " PC1   -0.231414          0.0 -0.235568      -0.240404            -0.111843   \n",
       " PC2    0.076498          0.0  0.001835       0.046132            -0.535839   \n",
       " PC3    0.140456         -0.0 -0.032389      -0.014627            -0.110799   \n",
       " PC4   -0.006675          0.0  0.016708       0.007903            -0.029184   \n",
       " PC5   -0.073074         -0.0 -0.101276      -0.048087             0.151221   \n",
       " PC6   -0.061262         -0.0 -0.167912      -0.116345            -0.087215   \n",
       " PC7   -0.053267         -0.0  0.013173       0.031681             0.089268   \n",
       " PC8    0.011197          0.0  0.045945       0.004343            -0.329197   \n",
       " \n",
       "       loading  Approach    CT_eff  \n",
       " PC1 -0.235153  0.189441 -0.190156  \n",
       " PC2 -0.012727  0.009288 -0.080584  \n",
       " PC3  0.003490  0.455844 -0.433870  \n",
       " PC4 -0.025334 -0.031355  0.032356  \n",
       " PC5 -0.139638  0.081293 -0.052946  \n",
       " PC6  0.034130  0.035812 -0.127846  \n",
       " PC7 -0.102152 -0.224666  0.246986  \n",
       " PC8 -0.019806 -0.025688 -0.017932  \n",
       " \n",
       " [8 rows x 28 columns],\n",
       " 'PC':            PC1       PC2       PC3       PC4       PC5       PC6       PC7  \\\n",
       " 76   -0.344590  0.791224 -1.849723 -0.516244  1.016281  1.462439 -0.829192   \n",
       " 77   -0.411478  1.143211 -1.576948 -0.978157  1.343479  1.622691 -0.832731   \n",
       " 78   -0.220447  0.817044 -1.504759  0.573912  1.419026  1.021225 -0.390430   \n",
       " 79   -0.756627  0.847052 -1.695878 -0.251977  1.202976  1.775171 -0.875433   \n",
       " 80   -0.666617  0.878929 -1.818466 -0.225278  1.104916  1.524899 -0.717425   \n",
       " ...        ...       ...       ...       ...       ...       ...       ...   \n",
       " 4390  2.583401 -3.076387  1.783197 -1.587177  2.758239  0.669400 -0.790879   \n",
       " 4391  2.625558 -3.221345  1.422198 -0.395366  2.748869  0.176057 -0.874805   \n",
       " 4392  2.507638 -2.781208  1.251683 -0.389336  2.608143  0.444743 -1.076748   \n",
       " 4393  2.911033 -2.750141  1.520336 -1.236362  2.172615  0.064399 -0.861476   \n",
       " 4394  2.603509 -2.574694  1.526878 -0.092518  1.553796  0.566438 -1.545392   \n",
       " \n",
       "            PC8  \n",
       " 76   -0.161249  \n",
       " 77    0.382408  \n",
       " 78   -0.808562  \n",
       " 79    0.310387  \n",
       " 80    0.051004  \n",
       " ...        ...  \n",
       " 4390  2.283848  \n",
       " 4391  1.203373  \n",
       " 4392  1.525280  \n",
       " 4393  0.633062  \n",
       " 4394  0.871408  \n",
       " \n",
       " [4309 rows x 8 columns],\n",
       " 'explained_var': array([0.67071898, 0.74655738, 0.80975541, 0.85692577, 0.89247255,\n",
       "        0.91862786, 0.94004996, 0.96026911, 0.97332746, 0.98169236,\n",
       "        0.98805541, 0.99339223, 0.99524142, 0.99682451, 0.99795074,\n",
       "        0.99892925, 0.9995728 , 0.99973504, 0.99987178, 0.99993132,\n",
       "        0.99998214, 0.99999641, 0.99999899, 0.99999975, 1.        ,\n",
       "        1.        , 1.        , 1.        ]),\n",
       " 'variance_ratio': array([6.70718982e-01, 7.58384006e-02, 6.31980287e-02, 4.71703597e-02,\n",
       "        3.55467819e-02, 2.61553095e-02, 2.14220960e-02, 2.02191531e-02,\n",
       "        1.30583447e-02, 8.36490309e-03, 6.36304769e-03, 5.33681850e-03,\n",
       "        1.84919187e-03, 1.58309678e-03, 1.12622924e-03, 9.78507831e-04,\n",
       "        6.43550832e-04, 1.62234598e-04, 1.36742937e-04, 5.95402031e-05,\n",
       "        5.08186689e-05, 1.42683532e-05, 2.58824560e-06, 7.54572977e-07,\n",
       "        2.50539031e-07, 0.00000000e+00, 0.00000000e+00, 0.00000000e+00]),\n",
       " 'model': PCA(n_components=8),\n",
       " 'scaler': None,\n",
       " 'pcp': 0.9733274560394117,\n",
       " 'topfeat':      PC                feature   loading  type\n",
       " 0   PC1          Wet_bulb_temp -0.240404  best\n",
       " 1   PC2            CHP_VFD_OUT -0.565018  best\n",
       " 2   PC3    chiller_return_temp  0.512411  best\n",
       " 3   PC4               CHP_PDTB -0.613131  best\n",
       " 4   PC5    chiller_supply_temp  0.530177  best\n",
       " 5   PC6             CT_VFD_OUT  0.457742  best\n",
       " 6   PC7    chiller_supply_temp  0.526584  best\n",
       " 7   PC8    chiller_supply_temp  0.543868  best\n",
       " 8   PC5                 OA_TT1  0.334917  weak\n",
       " 9   PC1                 OA_MT1 -0.236455  weak\n",
       " 10  PC1               Enthalpy -0.239324  weak\n",
       " 11  PC5                 OA_TT2  0.323282  weak\n",
       " 12  PC1                 OA_MT2 -0.236593  weak\n",
       " 13  PC1                  OA_E2 -0.239647  weak\n",
       " 14  PC4               CHP_PDTA -0.587752  weak\n",
       " 15  PC3                 CHP_FT -0.246461  weak\n",
       " 16  PC6             chiller_RT  0.220767  weak\n",
       " 17  PC4             CHP_PDT_PV -0.494773  weak\n",
       " 18  PC8                 CWP_FT  0.541129  weak\n",
       " 19  PC1              CT_TDT_PV -0.229958  weak\n",
       " 20  PC1  condenser_supply_temp -0.229955  weak\n",
       " 21  PC1  condenser_return_temp -0.233056  weak\n",
       " 22  PC1              CT_IN_TTB -0.233246  weak\n",
       " 23  PC1             CWP_TDT_PV -0.231414  weak\n",
       " 24  PC1            CWP_VFD_OUT  0.000000  weak\n",
       " 25  PC1               CT_WDT_A -0.235568  weak\n",
       " 26  PC2    condenser_temp_diff -0.535839  weak\n",
       " 27  PC1                loading -0.235153  weak\n",
       " 28  PC3               Approach  0.455844  weak\n",
       " 29  PC3                 CT_eff -0.433870  weak,\n",
       " 'outliers':        y_proba    y_score  y_bool  y_bool_spe  y_score_spe\n",
       " 76    0.940113   8.279317   False       False     0.863005\n",
       " 77    0.871275   9.910208   False       False     1.215008\n",
       " 78    0.954441   7.805709   False       False     0.846261\n",
       " 79    0.901568   9.277023   False       False     1.135773\n",
       " 80    0.937144   8.368135   False       False     1.103130\n",
       " ...        ...        ...     ...         ...          ...\n",
       " 4390  0.120718  22.745190   False        True     4.017228\n",
       " 4391  0.289408  18.609935   False        True     4.155794\n",
       " 4392  0.339159  17.743006   False        True     3.744779\n",
       " 4393  0.370250  17.239735   False        True     4.004671\n",
       " 4394  0.490810  15.465980   False       False     3.661599\n",
       " \n",
       " [4309 rows x 5 columns],\n",
       " 'outliers_params': {'paramT2': (-1.9787683520819684e-17, 3.0313263893040427),\n",
       "  'paramSPE': (array([-1.51509758e-15,  7.30701438e-17]),\n",
       "   array([[ 1.69422515e+01, -1.78362638e-13],\n",
       "          [-1.78362638e-13,  1.91566557e+00]]))}}"
      ]
     },
     "execution_count": 28,
     "metadata": {},
     "output_type": "execute_result"
    }
   ],
   "source": [
    "X = X.drop(4130)\n",
    "X_train, X_test, y_train, y_test = train_test_split(data[cols], y, test_size=0.33, random_state=42)\n",
    "model = pca()\n",
    "model.fit_transform(X)"
   ]
  },
  {
   "cell_type": "code",
   "execution_count": 19,
   "metadata": {},
   "outputs": [],
   "source": [
    "X, y = data[cols], data[target]"
   ]
  },
  {
   "cell_type": "code",
   "execution_count": 27,
   "metadata": {},
   "outputs": [],
   "source": [
    "X = X.drop(4130)"
   ]
  },
  {
   "cell_type": "code",
   "execution_count": 29,
   "metadata": {},
   "outputs": [
    {
     "data": {
      "image/png": "[encoded data removed]",
      "text/plain": [
       "<Figure size 1080x720 with 1 Axes>"
      ]
     },
     "metadata": {
      "needs_background": "light"
     },
     "output_type": "display_data"
    },
    {
     "data": {
      "text/plain": [
       "(<Figure size 1080x720 with 1 Axes>,\n",
       " <AxesSubplot:title={'center':'Cumulative explained variance\\n 8 Principal Components explain [97.33%] of the variance.'}, xlabel='Principle Component', ylabel='Percentage explained variance'>)"
      ]
     },
     "execution_count": 29,
     "metadata": {},
     "output_type": "execute_result"
    },
    {
     "data": {
      "text/plain": [
       "<Figure size 432x288 with 0 Axes>"
      ]
     },
     "metadata": {},
     "output_type": "display_data"
    }
   ],
   "source": [
    "model.plot()"
   ]
  },
  {
   "cell_type": "code",
   "execution_count": 30,
   "metadata": {},
   "outputs": [
    {
     "data": {
      "text/plain": [
       "OA_TT1                  -1.790742\n",
       "OA_MT1                  -1.640753\n",
       "Enthalpy                -1.808246\n",
       "OA_TT2                  -1.839015\n",
       "OA_MT2                  -1.645451\n",
       "OA_E2                   -1.804100\n",
       "CHP_PDTA                -0.067331\n",
       "CHP_PDTB                 0.061816\n",
       "CHP_FT                  -2.034976\n",
       "chiller_RT              -1.798553\n",
       "CHP_PDT_PV              -0.746539\n",
       "CHP_VFD_OUT              0.929146\n",
       "chiller_supply_temp     -0.518250\n",
       "chiller_return_temp      0.672655\n",
       "CWP_FT                  -2.082523\n",
       "CT_TDT_PV               -1.752760\n",
       "CT_VFD_OUT              -2.537657\n",
       "condenser_supply_temp   -1.752642\n",
       "condenser_return_temp   -1.630789\n",
       "CT_IN_TTB               -1.641415\n",
       "CWP_TDT_PV              -2.023835\n",
       "CWP_VFD_OUT              0.000000\n",
       "CT_WDT_A                -1.726644\n",
       "Wet_bulb_temp           -1.960079\n",
       "condenser_temp_diff      0.109798\n",
       "loading                 -2.025306\n",
       "Approach                 1.782945\n",
       "CT_eff                  -1.581433\n",
       "Name: 4216, dtype: float64"
      ]
     },
     "execution_count": 30,
     "metadata": {},
     "output_type": "execute_result"
    }
   ],
   "source": [
    "X.iloc[4130]"
   ]
  },
  {
   "cell_type": "code",
   "execution_count": 31,
   "metadata": {},
   "outputs": [
    {
     "name": "stdout",
     "output_type": "stream",
     "text": [
      "[pca] >Plot PC1 vs PC2 with loadings.\n",
      "[colourmap]> Warning: Colormap [Set1] can not create [4309] unique colors! Available unique colors: [9].\n",
      "[colourmap]> Warning: Colormap [Set1] can not create [4309] unique colors! Available unique colors: [9].\n",
      "[pca] >Set parameter \"label=None\" to ignore the labels and significanly speed up the scatter plot.\n"
     ]
    },
    {
     "data": {
      "image/png": "[encoded data removed]",
      "text/plain": [
       "<Figure size 1080x720 with 1 Axes>"
      ]
     },
     "metadata": {
      "needs_background": "light"
     },
     "output_type": "display_data"
    }
   ],
   "source": [
    "ax = model.biplot(n_feat=10, legend=False)"
   ]
  },
  {
   "cell_type": "code",
   "execution_count": null,
   "metadata": {},
   "outputs": [
    {
     "data": {
      "text/plain": [
       "array(['chiller_supply_temp', 'CWP_FT', 'condenser_supply_temp'],\n",
       "      dtype='<U21')"
      ]
     },
     "execution_count": 233,
     "metadata": {},
     "output_type": "execute_result"
    }
   ],
   "source": [
    "np.array(cols)[[12,14,17]]"
   ]
  },
  {
   "cell_type": "code",
   "execution_count": 32,
   "metadata": {},
   "outputs": [
    {
     "name": "stdout",
     "output_type": "stream",
     "text": [
      "[pca] >Plot PC1 vs PC2 vs PC3 with loadings.\n",
      "[colourmap]> Warning: Colormap [Set1] can not create [4309] unique colors! Available unique colors: [9].\n",
      "[colourmap]> Warning: Colormap [Set1] can not create [4309] unique colors! Available unique colors: [9].\n",
      "[pca] >Set parameter \"label=None\" to ignore the labels and significanly speed up the scatter plot.\n"
     ]
    },
    {
     "data": {
      "image/png": "[encoded data removed]",
      "text/plain": [
       "<Figure size 1080x720 with 2 Axes>"
      ]
     },
     "metadata": {
      "needs_background": "light"
     },
     "output_type": "display_data"
    }
   ],
   "source": [
    "ax = model.biplot3d(n_feat=10, legend=False)"
   ]
  },
  {
   "cell_type": "code",
   "execution_count": null,
   "metadata": {},
   "outputs": [],
   "source": []
  },
  {
   "cell_type": "code",
   "execution_count": null,
   "metadata": {},
   "outputs": [],
   "source": []
  },
  {
   "cell_type": "code",
   "execution_count": null,
   "metadata": {},
   "outputs": [],
   "source": [
    "def FS (target):\n",
    "    data = df[cols+[target]].dropna()\n",
    "    X, y = data[cols], data[target]\n",
    "    scaler = StandardScaler()\n",
    "    X_sc = scaler.fit_transform(X)\n",
    "    X_train, X_test, y_train, y_test = train_test_split(X_sc, y, test_size=0.33, random_state=42)\n",
    "    # Lasso with 5 fold cross-validation\n",
    "    model = LassoCV(cv=50, random_state=0, max_iter=10000)\n",
    "\n",
    "    # Fit model\n",
    "    model.fit(X_train, y_train)\n",
    "\n",
    "    # Set best alpha\n",
    "    lasso_best = Lasso(alpha=model.alpha_)\n",
    "    lasso_best.fit(X_train, y_train)\n",
    "\n",
    "    F = pd.DataFrame({\n",
    "    'Feature': X.columns,\n",
    "    'values':lasso_best.coef_,\n",
    "    'values_abs':abs(lasso_best.coef_)})\n",
    "    F = F.sort_values('values_abs',ascending=False)\n",
    "    return px.bar(F,x='Feature',y='values_abs'),F"
   ]
  },
  {
   "cell_type": "code",
   "execution_count": null,
   "metadata": {},
   "outputs": [
    {
     "data": {
      "application/vnd.plotly.v1+json": {
       "config": {
        "plotlyServerURL": "https://plot.ly"
       },
       "data": [
        {
         "alignmentgroup": "True",
         "hovertemplate": "Feature=%{x}<br>values_abs=%{y}<extra></extra>",
         "legendgroup": "",
         "marker": {
          "color": "#636efa",
          "pattern": {
           "shape": ""
          }
         },
         "name": "",
         "offsetgroup": "",
         "orientation": "v",
         "showlegend": false,
         "textposition": "auto",
         "type": "bar",
         "x": [
          "CT_eff",
          "CT_VFD_OUT",
          "Approach",
          "condenser_temp_diff",
          "OA_TT2",
          "CHP_VFD_OUT",
          "OA_MT1",
          "CHP_FT",
          "chiller_supply_temp",
          "CHP_PDTB",
          "chiller_return_temp",
          "CWP_FT",
          "Wet_bulb_temp",
          "CHP_PDT_PV",
          "chiller_RT",
          "CHP_PDTA",
          "CT_TDT_PV",
          "OA_E2",
          "condenser_supply_temp",
          "condenser_return_temp",
          "CT_IN_TTB",
          "CWP_TDT_PV",
          "CWP_VFD_OUT",
          "CT_WDT_A",
          "OA_MT2",
          "loading",
          "Enthalpy",
          "OA_TT1"
         ],
         "xaxis": "x",
         "y": [
          39.711880912033706,
          32.774290603846566,
          31.926545202730903,
          5.801114547708524,
          3.1293120469996443,
          2.393696477270102,
          1.0431603105674665,
          0.8578673724368204,
          0.37387675684591765,
          0.17301956244572914,
          0.11594637532031733,
          0.10652107862924601,
          0.03405252902197094,
          0,
          0,
          0,
          0,
          0,
          0,
          0,
          0,
          0,
          0,
          0,
          0,
          0,
          0,
          0
         ],
         "yaxis": "y"
        }
       ],
       "layout": {
        "barmode": "relative",
        "legend": {
         "tracegroupgap": 0
        },
        "margin": {
         "t": 60
        },
        "template": {
         "data": {
          "bar": [
           {
            "error_x": {
             "color": "#2a3f5f"
            },
            "error_y": {
             "color": "#2a3f5f"
            },
            "marker": {
             "line": {
              "color": "#E5ECF6",
              "width": 0.5
             },
             "pattern": {
              "fillmode": "overlay",
              "size": 10,
              "solidity": 0.2
             }
            },
            "type": "bar"
           }
          ],
          "barpolar": [
           {
            "marker": {
             "line": {
              "color": "#E5ECF6",
              "width": 0.5
             },
             "pattern": {
              "fillmode": "overlay",
              "size": 10,
              "solidity": 0.2
             }
            },
            "type": "barpolar"
           }
          ],
          "carpet": [
           {
            "aaxis": {
             "endlinecolor": "#2a3f5f",
             "gridcolor": "white",
             "linecolor": "white",
             "minorgridcolor": "white",
             "startlinecolor": "#2a3f5f"
            },
            "baxis": {
             "endlinecolor": "#2a3f5f",
             "gridcolor": "white",
             "linecolor": "white",
             "minorgridcolor": "white",
             "startlinecolor": "#2a3f5f"
            },
            "type": "carpet"
           }
          ],
          "choropleth": [
           {
            "colorbar": {
             "outlinewidth": 0,
             "ticks": ""
            },
            "type": "choropleth"
           }
          ],
          "contour": [
           {
            "colorbar": {
             "outlinewidth": 0,
             "ticks": ""
            },
            "colorscale": [
             [
              0,
              "#0d0887"
             ],
             [
              0.1111111111111111,
              "#46039f"
             ],
             [
              0.2222222222222222,
              "#7201a8"
             ],
             [
              0.3333333333333333,
              "#9c179e"
             ],
             [
              0.4444444444444444,
              "#bd3786"
             ],
             [
              0.5555555555555556,
              "#d8576b"
             ],
             [
              0.6666666666666666,
              "#ed7953"
             ],
             [
              0.7777777777777778,
              "#fb9f3a"
             ],
             [
              0.8888888888888888,
              "#fdca26"
             ],
             [
              1,
              "#f0f921"
             ]
            ],
            "type": "contour"
           }
          ],
          "contourcarpet": [
           {
            "colorbar": {
             "outlinewidth": 0,
             "ticks": ""
            },
            "type": "contourcarpet"
           }
          ],
          "heatmap": [
           {
            "colorbar": {
             "outlinewidth": 0,
             "ticks": ""
            },
            "colorscale": [
             [
              0,
              "#0d0887"
             ],
             [
              0.1111111111111111,
              "#46039f"
             ],
             [
              0.2222222222222222,
              "#7201a8"
             ],
             [
              0.3333333333333333,
              "#9c179e"
             ],
             [
              0.4444444444444444,
              "#bd3786"
             ],
             [
              0.5555555555555556,
              "#d8576b"
             ],
             [
              0.6666666666666666,
              "#ed7953"
             ],
             [
              0.7777777777777778,
              "#fb9f3a"
             ],
             [
              0.8888888888888888,
              "#fdca26"
             ],
             [
              1,
              "#f0f921"
             ]
            ],
            "type": "heatmap"
           }
          ],
          "heatmapgl": [
           {
            "colorbar": {
             "outlinewidth": 0,
             "ticks": ""
            },
            "colorscale": [
             [
              0,
              "#0d0887"
             ],
             [
              0.1111111111111111,
              "#46039f"
             ],
             [
              0.2222222222222222,
              "#7201a8"
             ],
             [
              0.3333333333333333,
              "#9c179e"
             ],
             [
              0.4444444444444444,
              "#bd3786"
             ],
             [
              0.5555555555555556,
              "#d8576b"
             ],
             [
              0.6666666666666666,
              "#ed7953"
             ],
             [
              0.7777777777777778,
              "#fb9f3a"
             ],
             [
              0.8888888888888888,
              "#fdca26"
             ],
             [
              1,
              "#f0f921"
             ]
            ],
            "type": "heatmapgl"
           }
          ],
          "histogram": [
           {
            "marker": {
             "pattern": {
              "fillmode": "overlay",
              "size": 10,
              "solidity": 0.2
             }
            },
            "type": "histogram"
           }
          ],
          "histogram2d": [
           {
            "colorbar": {
             "outlinewidth": 0,
             "ticks": ""
            },
            "colorscale": [
             [
              0,
              "#0d0887"
             ],
             [
              0.1111111111111111,
              "#46039f"
             ],
             [
              0.2222222222222222,
              "#7201a8"
             ],
             [
              0.3333333333333333,
              "#9c179e"
             ],
             [
              0.4444444444444444,
              "#bd3786"
             ],
             [
              0.5555555555555556,
              "#d8576b"
             ],
             [
              0.6666666666666666,
              "#ed7953"
             ],
             [
              0.7777777777777778,
              "#fb9f3a"
             ],
             [
              0.8888888888888888,
              "#fdca26"
             ],
             [
              1,
              "#f0f921"
             ]
            ],
            "type": "histogram2d"
           }
          ],
          "histogram2dcontour": [
           {
            "colorbar": {
             "outlinewidth": 0,
             "ticks": ""
            },
            "colorscale": [
             [
              0,
              "#0d0887"
             ],
             [
              0.1111111111111111,
              "#46039f"
             ],
             [
              0.2222222222222222,
              "#7201a8"
             ],
             [
              0.3333333333333333,
              "#9c179e"
             ],
             [
              0.4444444444444444,
              "#bd3786"
             ],
             [
              0.5555555555555556,
              "#d8576b"
             ],
             [
              0.6666666666666666,
              "#ed7953"
             ],
             [
              0.7777777777777778,
              "#fb9f3a"
             ],
             [
              0.8888888888888888,
              "#fdca26"
             ],
             [
              1,
              "#f0f921"
             ]
            ],
            "type": "histogram2dcontour"
           }
          ],
          "mesh3d": [
           {
            "colorbar": {
             "outlinewidth": 0,
             "ticks": ""
            },
            "type": "mesh3d"
           }
          ],
          "parcoords": [
           {
            "line": {
             "colorbar": {
              "outlinewidth": 0,
              "ticks": ""
             }
            },
            "type": "parcoords"
           }
          ],
          "pie": [
           {
            "automargin": true,
            "type": "pie"
           }
          ],
          "scatter": [
           {
            "fillpattern": {
             "fillmode": "overlay",
             "size": 10,
             "solidity": 0.2
            },
            "type": "scatter"
           }
          ],
          "scatter3d": [
           {
            "line": {
             "colorbar": {
              "outlinewidth": 0,
              "ticks": ""
             }
            },
            "marker": {
             "colorbar": {
              "outlinewidth": 0,
              "ticks": ""
             }
            },
            "type": "scatter3d"
           }
          ],
          "scattercarpet": [
           {
            "marker": {
             "colorbar": {
              "outlinewidth": 0,
              "ticks": ""
             }
            },
            "type": "scattercarpet"
           }
          ],
          "scattergeo": [
           {
            "marker": {
             "colorbar": {
              "outlinewidth": 0,
              "ticks": ""
             }
            },
            "type": "scattergeo"
           }
          ],
          "scattergl": [
           {
            "marker": {
             "colorbar": {
              "outlinewidth": 0,
              "ticks": ""
             }
            },
            "type": "scattergl"
           }
          ],
          "scattermapbox": [
           {
            "marker": {
             "colorbar": {
              "outlinewidth": 0,
              "ticks": ""
             }
            },
            "type": "scattermapbox"
           }
          ],
          "scatterpolar": [
           {
            "marker": {
             "colorbar": {
              "outlinewidth": 0,
              "ticks": ""
             }
            },
            "type": "scatterpolar"
           }
          ],
          "scatterpolargl": [
           {
            "marker": {
             "colorbar": {
              "outlinewidth": 0,
              "ticks": ""
             }
            },
            "type": "scatterpolargl"
           }
          ],
          "scatterternary": [
           {
            "marker": {
             "colorbar": {
              "outlinewidth": 0,
              "ticks": ""
             }
            },
            "type": "scatterternary"
           }
          ],
          "surface": [
           {
            "colorbar": {
             "outlinewidth": 0,
             "ticks": ""
            },
            "colorscale": [
             [
              0,
              "#0d0887"
             ],
             [
              0.1111111111111111,
              "#46039f"
             ],
             [
              0.2222222222222222,
              "#7201a8"
             ],
             [
              0.3333333333333333,
              "#9c179e"
             ],
             [
              0.4444444444444444,
              "#bd3786"
             ],
             [
              0.5555555555555556,
              "#d8576b"
             ],
             [
              0.6666666666666666,
              "#ed7953"
             ],
             [
              0.7777777777777778,
              "#fb9f3a"
             ],
             [
              0.8888888888888888,
              "#fdca26"
             ],
             [
              1,
              "#f0f921"
             ]
            ],
            "type": "surface"
           }
          ],
          "table": [
           {
            "cells": {
             "fill": {
              "color": "#EBF0F8"
             },
             "line": {
              "color": "white"
             }
            },
            "header": {
             "fill": {
              "color": "#C8D4E3"
             },
             "line": {
              "color": "white"
             }
            },
            "type": "table"
           }
          ]
         },
         "layout": {
          "annotationdefaults": {
           "arrowcolor": "#2a3f5f",
           "arrowhead": 0,
           "arrowwidth": 1
          },
          "autotypenumbers": "strict",
          "coloraxis": {
           "colorbar": {
            "outlinewidth": 0,
            "ticks": ""
           }
          },
          "colorscale": {
           "diverging": [
            [
             0,
             "#8e0152"
            ],
            [
             0.1,
             "#c51b7d"
            ],
            [
             0.2,
             "#de77ae"
            ],
            [
             0.3,
             "#f1b6da"
            ],
            [
             0.4,
             "#fde0ef"
            ],
            [
             0.5,
             "#f7f7f7"
            ],
            [
             0.6,
             "#e6f5d0"
            ],
            [
             0.7,
             "#b8e186"
            ],
            [
             0.8,
             "#7fbc41"
            ],
            [
             0.9,
             "#4d9221"
            ],
            [
             1,
             "#276419"
            ]
           ],
           "sequential": [
            [
             0,
             "#0d0887"
            ],
            [
             0.1111111111111111,
             "#46039f"
            ],
            [
             0.2222222222222222,
             "#7201a8"
            ],
            [
             0.3333333333333333,
             "#9c179e"
            ],
            [
             0.4444444444444444,
             "#bd3786"
            ],
            [
             0.5555555555555556,
             "#d8576b"
            ],
            [
             0.6666666666666666,
             "#ed7953"
            ],
            [
             0.7777777777777778,
             "#fb9f3a"
            ],
            [
             0.8888888888888888,
             "#fdca26"
            ],
            [
             1,
             "#f0f921"
            ]
           ],
           "sequentialminus": [
            [
             0,
             "#0d0887"
            ],
            [
             0.1111111111111111,
             "#46039f"
            ],
            [
             0.2222222222222222,
             "#7201a8"
            ],
            [
             0.3333333333333333,
             "#9c179e"
            ],
            [
             0.4444444444444444,
             "#bd3786"
            ],
            [
             0.5555555555555556,
             "#d8576b"
            ],
            [
             0.6666666666666666,
             "#ed7953"
            ],
            [
             0.7777777777777778,
             "#fb9f3a"
            ],
            [
             0.8888888888888888,
             "#fdca26"
            ],
            [
             1,
             "#f0f921"
            ]
           ]
          },
          "colorway": [
           "#636efa",
           "#EF553B",
           "#00cc96",
           "#ab63fa",
           "#FFA15A",
           "#19d3f3",
           "#FF6692",
           "#B6E880",
           "#FF97FF",
           "#FECB52"
          ],
          "font": {
           "color": "#2a3f5f"
          },
          "geo": {
           "bgcolor": "white",
           "lakecolor": "white",
           "landcolor": "#E5ECF6",
           "showlakes": true,
           "showland": true,
           "subunitcolor": "white"
          },
          "hoverlabel": {
           "align": "left"
          },
          "hovermode": "closest",
          "mapbox": {
           "style": "light"
          },
          "paper_bgcolor": "white",
          "plot_bgcolor": "#E5ECF6",
          "polar": {
           "angularaxis": {
            "gridcolor": "white",
            "linecolor": "white",
            "ticks": ""
           },
           "bgcolor": "#E5ECF6",
           "radialaxis": {
            "gridcolor": "white",
            "linecolor": "white",
            "ticks": ""
           }
          },
          "scene": {
           "xaxis": {
            "backgroundcolor": "#E5ECF6",
            "gridcolor": "white",
            "gridwidth": 2,
            "linecolor": "white",
            "showbackground": true,
            "ticks": "",
            "zerolinecolor": "white"
           },
           "yaxis": {
            "backgroundcolor": "#E5ECF6",
            "gridcolor": "white",
            "gridwidth": 2,
            "linecolor": "white",
            "showbackground": true,
            "ticks": "",
            "zerolinecolor": "white"
           },
           "zaxis": {
            "backgroundcolor": "#E5ECF6",
            "gridcolor": "white",
            "gridwidth": 2,
            "linecolor": "white",
            "showbackground": true,
            "ticks": "",
            "zerolinecolor": "white"
           }
          },
          "shapedefaults": {
           "line": {
            "color": "#2a3f5f"
           }
          },
          "ternary": {
           "aaxis": {
            "gridcolor": "white",
            "linecolor": "white",
            "ticks": ""
           },
           "baxis": {
            "gridcolor": "white",
            "linecolor": "white",
            "ticks": ""
           },
           "bgcolor": "#E5ECF6",
           "caxis": {
            "gridcolor": "white",
            "linecolor": "white",
            "ticks": ""
           }
          },
          "title": {
           "x": 0.05
          },
          "xaxis": {
           "automargin": true,
           "gridcolor": "white",
           "linecolor": "white",
           "ticks": "",
           "title": {
            "standoff": 15
           },
           "zerolinecolor": "white",
           "zerolinewidth": 2
          },
          "yaxis": {
           "automargin": true,
           "gridcolor": "white",
           "linecolor": "white",
           "ticks": "",
           "title": {
            "standoff": 15
           },
           "zerolinecolor": "white",
           "zerolinewidth": 2
          }
         }
        },
        "xaxis": {
         "anchor": "y",
         "domain": [
          0,
          1
         ],
         "title": {
          "text": "Feature"
         }
        },
        "yaxis": {
         "anchor": "x",
         "domain": [
          0,
          1
         ],
         "title": {
          "text": "values_abs"
         }
        }
       }
      }
     },
     "metadata": {},
     "output_type": "display_data"
    }
   ],
   "source": [
    "fig,res = FS('CT_Total_KW')\n",
    "fig"
   ]
  },
  {
   "cell_type": "code",
   "execution_count": null,
   "metadata": {},
   "outputs": [
    {
     "data": {
      "application/vnd.plotly.v1+json": {
       "config": {
        "plotlyServerURL": "https://plot.ly"
       },
       "data": [
        {
         "alignmentgroup": "True",
         "hovertemplate": "Feature=%{x}<br>values_abs=%{y}<extra></extra>",
         "legendgroup": "",
         "marker": {
          "color": "#636efa",
          "pattern": {
           "shape": ""
          }
         },
         "name": "",
         "offsetgroup": "",
         "orientation": "v",
         "showlegend": false,
         "textposition": "auto",
         "type": "bar",
         "x": [
          "loading",
          "chiller_RT",
          "condenser_return_temp",
          "CHP_FT",
          "Wet_bulb_temp",
          "Enthalpy",
          "OA_TT2",
          "chiller_supply_temp",
          "CT_VFD_OUT",
          "CHP_VFD_OUT",
          "CWP_FT",
          "OA_E2",
          "CT_eff",
          "chiller_return_temp",
          "OA_MT1",
          "CT_TDT_PV",
          "CHP_PDT_PV",
          "condenser_supply_temp",
          "CHP_PDTB",
          "CT_IN_TTB",
          "CWP_TDT_PV",
          "CWP_VFD_OUT",
          "CT_WDT_A",
          "CHP_PDTA",
          "condenser_temp_diff",
          "OA_MT2",
          "Approach",
          "OA_TT1"
         ],
         "xaxis": "x",
         "y": [
          221.84188866667355,
          22.891026349275002,
          20.48380587501171,
          15.201133268042968,
          7.347528191510302,
          6.368001155508207,
          6.333382172254883,
          2.4013023986161093,
          2.047815385508375,
          1.9976624345885954,
          1.5873163608058138,
          1.066778794692857,
          0.48467816681419296,
          0,
          0,
          0,
          0,
          0,
          0,
          0,
          0,
          0,
          0,
          0,
          0,
          0,
          0,
          0
         ],
         "yaxis": "y"
        }
       ],
       "layout": {
        "barmode": "relative",
        "legend": {
         "tracegroupgap": 0
        },
        "margin": {
         "t": 60
        },
        "template": {
         "data": {
          "bar": [
           {
            "error_x": {
             "color": "#2a3f5f"
            },
            "error_y": {
             "color": "#2a3f5f"
            },
            "marker": {
             "line": {
              "color": "#E5ECF6",
              "width": 0.5
             },
             "pattern": {
              "fillmode": "overlay",
              "size": 10,
              "solidity": 0.2
             }
            },
            "type": "bar"
           }
          ],
          "barpolar": [
           {
            "marker": {
             "line": {
              "color": "#E5ECF6",
              "width": 0.5
             },
             "pattern": {
              "fillmode": "overlay",
              "size": 10,
              "solidity": 0.2
             }
            },
            "type": "barpolar"
           }
          ],
          "carpet": [
           {
            "aaxis": {
             "endlinecolor": "#2a3f5f",
             "gridcolor": "white",
             "linecolor": "white",
             "minorgridcolor": "white",
             "startlinecolor": "#2a3f5f"
            },
            "baxis": {
             "endlinecolor": "#2a3f5f",
             "gridcolor": "white",
             "linecolor": "white",
             "minorgridcolor": "white",
             "startlinecolor": "#2a3f5f"
            },
            "type": "carpet"
           }
          ],
          "choropleth": [
           {
            "colorbar": {
             "outlinewidth": 0,
             "ticks": ""
            },
            "type": "choropleth"
           }
          ],
          "contour": [
           {
            "colorbar": {
             "outlinewidth": 0,
             "ticks": ""
            },
            "colorscale": [
             [
              0,
              "#0d0887"
             ],
             [
              0.1111111111111111,
              "#46039f"
             ],
             [
              0.2222222222222222,
              "#7201a8"
             ],
             [
              0.3333333333333333,
              "#9c179e"
             ],
             [
              0.4444444444444444,
              "#bd3786"
             ],
             [
              0.5555555555555556,
              "#d8576b"
             ],
             [
              0.6666666666666666,
              "#ed7953"
             ],
             [
              0.7777777777777778,
              "#fb9f3a"
             ],
             [
              0.8888888888888888,
              "#fdca26"
             ],
             [
              1,
              "#f0f921"
             ]
            ],
            "type": "contour"
           }
          ],
          "contourcarpet": [
           {
            "colorbar": {
             "outlinewidth": 0,
             "ticks": ""
            },
            "type": "contourcarpet"
           }
          ],
          "heatmap": [
           {
            "colorbar": {
             "outlinewidth": 0,
             "ticks": ""
            },
            "colorscale": [
             [
              0,
              "#0d0887"
             ],
             [
              0.1111111111111111,
              "#46039f"
             ],
             [
              0.2222222222222222,
              "#7201a8"
             ],
             [
              0.3333333333333333,
              "#9c179e"
             ],
             [
              0.4444444444444444,
              "#bd3786"
             ],
             [
              0.5555555555555556,
              "#d8576b"
             ],
             [
              0.6666666666666666,
              "#ed7953"
             ],
             [
              0.7777777777777778,
              "#fb9f3a"
             ],
             [
              0.8888888888888888,
              "#fdca26"
             ],
             [
              1,
              "#f0f921"
             ]
            ],
            "type": "heatmap"
           }
          ],
          "heatmapgl": [
           {
            "colorbar": {
             "outlinewidth": 0,
             "ticks": ""
            },
            "colorscale": [
             [
              0,
              "#0d0887"
             ],
             [
              0.1111111111111111,
              "#46039f"
             ],
             [
              0.2222222222222222,
              "#7201a8"
             ],
             [
              0.3333333333333333,
              "#9c179e"
             ],
             [
              0.4444444444444444,
              "#bd3786"
             ],
             [
              0.5555555555555556,
              "#d8576b"
             ],
             [
              0.6666666666666666,
              "#ed7953"
             ],
             [
              0.7777777777777778,
              "#fb9f3a"
             ],
             [
              0.8888888888888888,
              "#fdca26"
             ],
             [
              1,
              "#f0f921"
             ]
            ],
            "type": "heatmapgl"
           }
          ],
          "histogram": [
           {
            "marker": {
             "pattern": {
              "fillmode": "overlay",
              "size": 10,
              "solidity": 0.2
             }
            },
            "type": "histogram"
           }
          ],
          "histogram2d": [
           {
            "colorbar": {
             "outlinewidth": 0,
             "ticks": ""
            },
            "colorscale": [
             [
              0,
              "#0d0887"
             ],
             [
              0.1111111111111111,
              "#46039f"
             ],
             [
              0.2222222222222222,
              "#7201a8"
             ],
             [
              0.3333333333333333,
              "#9c179e"
             ],
             [
              0.4444444444444444,
              "#bd3786"
             ],
             [
              0.5555555555555556,
              "#d8576b"
             ],
             [
              0.6666666666666666,
              "#ed7953"
             ],
             [
              0.7777777777777778,
              "#fb9f3a"
             ],
             [
              0.8888888888888888,
              "#fdca26"
             ],
             [
              1,
              "#f0f921"
             ]
            ],
            "type": "histogram2d"
           }
          ],
          "histogram2dcontour": [
           {
            "colorbar": {
             "outlinewidth": 0,
             "ticks": ""
            },
            "colorscale": [
             [
              0,
              "#0d0887"
             ],
             [
              0.1111111111111111,
              "#46039f"
             ],
             [
              0.2222222222222222,
              "#7201a8"
             ],
             [
              0.3333333333333333,
              "#9c179e"
             ],
             [
              0.4444444444444444,
              "#bd3786"
             ],
             [
              0.5555555555555556,
              "#d8576b"
             ],
             [
              0.6666666666666666,
              "#ed7953"
             ],
             [
              0.7777777777777778,
              "#fb9f3a"
             ],
             [
              0.8888888888888888,
              "#fdca26"
             ],
             [
              1,
              "#f0f921"
             ]
            ],
            "type": "histogram2dcontour"
           }
          ],
          "mesh3d": [
           {
            "colorbar": {
             "outlinewidth": 0,
             "ticks": ""
            },
            "type": "mesh3d"
           }
          ],
          "parcoords": [
           {
            "line": {
             "colorbar": {
              "outlinewidth": 0,
              "ticks": ""
             }
            },
            "type": "parcoords"
           }
          ],
          "pie": [
           {
            "automargin": true,
            "type": "pie"
           }
          ],
          "scatter": [
           {
            "fillpattern": {
             "fillmode": "overlay",
             "size": 10,
             "solidity": 0.2
            },
            "type": "scatter"
           }
          ],
          "scatter3d": [
           {
            "line": {
             "colorbar": {
              "outlinewidth": 0,
              "ticks": ""
             }
            },
            "marker": {
             "colorbar": {
              "outlinewidth": 0,
              "ticks": ""
             }
            },
            "type": "scatter3d"
           }
          ],
          "scattercarpet": [
           {
            "marker": {
             "colorbar": {
              "outlinewidth": 0,
              "ticks": ""
             }
            },
            "type": "scattercarpet"
           }
          ],
          "scattergeo": [
           {
            "marker": {
             "colorbar": {
              "outlinewidth": 0,
              "ticks": ""
             }
            },
            "type": "scattergeo"
           }
          ],
          "scattergl": [
           {
            "marker": {
             "colorbar": {
              "outlinewidth": 0,
              "ticks": ""
             }
            },
            "type": "scattergl"
           }
          ],
          "scattermapbox": [
           {
            "marker": {
             "colorbar": {
              "outlinewidth": 0,
              "ticks": ""
             }
            },
            "type": "scattermapbox"
           }
          ],
          "scatterpolar": [
           {
            "marker": {
             "colorbar": {
              "outlinewidth": 0,
              "ticks": ""
             }
            },
            "type": "scatterpolar"
           }
          ],
          "scatterpolargl": [
           {
            "marker": {
             "colorbar": {
              "outlinewidth": 0,
              "ticks": ""
             }
            },
            "type": "scatterpolargl"
           }
          ],
          "scatterternary": [
           {
            "marker": {
             "colorbar": {
              "outlinewidth": 0,
              "ticks": ""
             }
            },
            "type": "scatterternary"
           }
          ],
          "surface": [
           {
            "colorbar": {
             "outlinewidth": 0,
             "ticks": ""
            },
            "colorscale": [
             [
              0,
              "#0d0887"
             ],
             [
              0.1111111111111111,
              "#46039f"
             ],
             [
              0.2222222222222222,
              "#7201a8"
             ],
             [
              0.3333333333333333,
              "#9c179e"
             ],
             [
              0.4444444444444444,
              "#bd3786"
             ],
             [
              0.5555555555555556,
              "#d8576b"
             ],
             [
              0.6666666666666666,
              "#ed7953"
             ],
             [
              0.7777777777777778,
              "#fb9f3a"
             ],
             [
              0.8888888888888888,
              "#fdca26"
             ],
             [
              1,
              "#f0f921"
             ]
            ],
            "type": "surface"
           }
          ],
          "table": [
           {
            "cells": {
             "fill": {
              "color": "#EBF0F8"
             },
             "line": {
              "color": "white"
             }
            },
            "header": {
             "fill": {
              "color": "#C8D4E3"
             },
             "line": {
              "color": "white"
             }
            },
            "type": "table"
           }
          ]
         },
         "layout": {
          "annotationdefaults": {
           "arrowcolor": "#2a3f5f",
           "arrowhead": 0,
           "arrowwidth": 1
          },
          "autotypenumbers": "strict",
          "coloraxis": {
           "colorbar": {
            "outlinewidth": 0,
            "ticks": ""
           }
          },
          "colorscale": {
           "diverging": [
            [
             0,
             "#8e0152"
            ],
            [
             0.1,
             "#c51b7d"
            ],
            [
             0.2,
             "#de77ae"
            ],
            [
             0.3,
             "#f1b6da"
            ],
            [
             0.4,
             "#fde0ef"
            ],
            [
             0.5,
             "#f7f7f7"
            ],
            [
             0.6,
             "#e6f5d0"
            ],
            [
             0.7,
             "#b8e186"
            ],
            [
             0.8,
             "#7fbc41"
            ],
            [
             0.9,
             "#4d9221"
            ],
            [
             1,
             "#276419"
            ]
           ],
           "sequential": [
            [
             0,
             "#0d0887"
            ],
            [
             0.1111111111111111,
             "#46039f"
            ],
            [
             0.2222222222222222,
             "#7201a8"
            ],
            [
             0.3333333333333333,
             "#9c179e"
            ],
            [
             0.4444444444444444,
             "#bd3786"
            ],
            [
             0.5555555555555556,
             "#d8576b"
            ],
            [
             0.6666666666666666,
             "#ed7953"
            ],
            [
             0.7777777777777778,
             "#fb9f3a"
            ],
            [
             0.8888888888888888,
             "#fdca26"
            ],
            [
             1,
             "#f0f921"
            ]
           ],
           "sequentialminus": [
            [
             0,
             "#0d0887"
            ],
            [
             0.1111111111111111,
             "#46039f"
            ],
            [
             0.2222222222222222,
             "#7201a8"
            ],
            [
             0.3333333333333333,
             "#9c179e"
            ],
            [
             0.4444444444444444,
             "#bd3786"
            ],
            [
             0.5555555555555556,
             "#d8576b"
            ],
            [
             0.6666666666666666,
             "#ed7953"
            ],
            [
             0.7777777777777778,
             "#fb9f3a"
            ],
            [
             0.8888888888888888,
             "#fdca26"
            ],
            [
             1,
             "#f0f921"
            ]
           ]
          },
          "colorway": [
           "#636efa",
           "#EF553B",
           "#00cc96",
           "#ab63fa",
           "#FFA15A",
           "#19d3f3",
           "#FF6692",
           "#B6E880",
           "#FF97FF",
           "#FECB52"
          ],
          "font": {
           "color": "#2a3f5f"
          },
          "geo": {
           "bgcolor": "white",
           "lakecolor": "white",
           "landcolor": "#E5ECF6",
           "showlakes": true,
           "showland": true,
           "subunitcolor": "white"
          },
          "hoverlabel": {
           "align": "left"
          },
          "hovermode": "closest",
          "mapbox": {
           "style": "light"
          },
          "paper_bgcolor": "white",
          "plot_bgcolor": "#E5ECF6",
          "polar": {
           "angularaxis": {
            "gridcolor": "white",
            "linecolor": "white",
            "ticks": ""
           },
           "bgcolor": "#E5ECF6",
           "radialaxis": {
            "gridcolor": "white",
            "linecolor": "white",
            "ticks": ""
           }
          },
          "scene": {
           "xaxis": {
            "backgroundcolor": "#E5ECF6",
            "gridcolor": "white",
            "gridwidth": 2,
            "linecolor": "white",
            "showbackground": true,
            "ticks": "",
            "zerolinecolor": "white"
           },
           "yaxis": {
            "backgroundcolor": "#E5ECF6",
            "gridcolor": "white",
            "gridwidth": 2,
            "linecolor": "white",
            "showbackground": true,
            "ticks": "",
            "zerolinecolor": "white"
           },
           "zaxis": {
            "backgroundcolor": "#E5ECF6",
            "gridcolor": "white",
            "gridwidth": 2,
            "linecolor": "white",
            "showbackground": true,
            "ticks": "",
            "zerolinecolor": "white"
           }
          },
          "shapedefaults": {
           "line": {
            "color": "#2a3f5f"
           }
          },
          "ternary": {
           "aaxis": {
            "gridcolor": "white",
            "linecolor": "white",
            "ticks": ""
           },
           "baxis": {
            "gridcolor": "white",
            "linecolor": "white",
            "ticks": ""
           },
           "bgcolor": "#E5ECF6",
           "caxis": {
            "gridcolor": "white",
            "linecolor": "white",
            "ticks": ""
           }
          },
          "title": {
           "x": 0.05
          },
          "xaxis": {
           "automargin": true,
           "gridcolor": "white",
           "linecolor": "white",
           "ticks": "",
           "title": {
            "standoff": 15
           },
           "zerolinecolor": "white",
           "zerolinewidth": 2
          },
          "yaxis": {
           "automargin": true,
           "gridcolor": "white",
           "linecolor": "white",
           "ticks": "",
           "title": {
            "standoff": 15
           },
           "zerolinecolor": "white",
           "zerolinewidth": 2
          }
         }
        },
        "xaxis": {
         "anchor": "y",
         "domain": [
          0,
          1
         ],
         "title": {
          "text": "Feature"
         }
        },
        "yaxis": {
         "anchor": "x",
         "domain": [
          0,
          1
         ],
         "title": {
          "text": "values_abs"
         }
        }
       }
      }
     },
     "metadata": {},
     "output_type": "display_data"
    }
   ],
   "source": [
    "fig,res = FS('chiller_kwh')\n",
    "fig"
   ]
  },
  {
   "cell_type": "code",
   "execution_count": null,
   "metadata": {},
   "outputs": [
    {
     "name": "stderr",
     "output_type": "stream",
     "text": [
      "c:\\Users\\sung\\miniconda3\\lib\\site-packages\\sklearn\\linear_model\\_coordinate_descent.py:648: ConvergenceWarning:\n",
      "\n",
      "Objective did not converge. You might want to increase the number of iterations, check the scale of the features or consider increasing regularisation. Duality gap: 5.222e+01, tolerance: 1.583e+01\n",
      "\n",
      "c:\\Users\\sung\\miniconda3\\lib\\site-packages\\sklearn\\linear_model\\_coordinate_descent.py:648: ConvergenceWarning:\n",
      "\n",
      "Objective did not converge. You might want to increase the number of iterations, check the scale of the features or consider increasing regularisation. Duality gap: 2.343e+03, tolerance: 1.583e+01\n",
      "\n"
     ]
    },
    {
     "data": {
      "application/vnd.plotly.v1+json": {
       "config": {
        "plotlyServerURL": "https://plot.ly"
       },
       "data": [
        {
         "alignmentgroup": "True",
         "hovertemplate": "Feature=%{x}<br>values_abs=%{y}<extra></extra>",
         "legendgroup": "",
         "marker": {
          "color": "#636efa",
          "pattern": {
           "shape": ""
          }
         },
         "name": "",
         "offsetgroup": "",
         "orientation": "v",
         "showlegend": false,
         "textposition": "auto",
         "type": "bar",
         "x": [
          "CT_IN_TTB",
          "loading",
          "CHP_VFD_OUT",
          "condenser_temp_diff",
          "CT_TDT_PV",
          "Approach",
          "CHP_FT",
          "OA_MT1",
          "CT_eff",
          "Wet_bulb_temp",
          "CT_VFD_OUT",
          "chiller_return_temp",
          "OA_TT2",
          "CWP_FT",
          "CWP_TDT_PV",
          "CT_WDT_A",
          "OA_MT2",
          "OA_TT1",
          "condenser_return_temp",
          "CHP_PDTB",
          "chiller_supply_temp",
          "CHP_PDTA",
          "CHP_PDT_PV",
          "chiller_RT",
          "condenser_supply_temp",
          "CWP_VFD_OUT",
          "OA_E2",
          "Enthalpy"
         ],
         "xaxis": "x",
         "y": [
          7.441781918220955,
          6.105560360903417,
          4.345610996838858,
          3.9723859514313418,
          3.6745372291562775,
          2.2302702016276847,
          1.807087075174412,
          1.3658163908044547,
          1.184351242638866,
          1.0905330040268912,
          1.074407202921251,
          1.04498401695749,
          0.9547200701025179,
          0.8566685101829027,
          0.7575068803462627,
          0.7383012599974694,
          0.4333920579830766,
          0.43058631664577185,
          0.4196085441302714,
          0.20393550602335628,
          0.1325310072063873,
          0.09719585055348202,
          0.04395250840022361,
          0,
          0,
          0,
          0,
          0
         ],
         "yaxis": "y"
        }
       ],
       "layout": {
        "barmode": "relative",
        "legend": {
         "tracegroupgap": 0
        },
        "margin": {
         "t": 60
        },
        "template": {
         "data": {
          "bar": [
           {
            "error_x": {
             "color": "#2a3f5f"
            },
            "error_y": {
             "color": "#2a3f5f"
            },
            "marker": {
             "line": {
              "color": "#E5ECF6",
              "width": 0.5
             },
             "pattern": {
              "fillmode": "overlay",
              "size": 10,
              "solidity": 0.2
             }
            },
            "type": "bar"
           }
          ],
          "barpolar": [
           {
            "marker": {
             "line": {
              "color": "#E5ECF6",
              "width": 0.5
             },
             "pattern": {
              "fillmode": "overlay",
              "size": 10,
              "solidity": 0.2
             }
            },
            "type": "barpolar"
           }
          ],
          "carpet": [
           {
            "aaxis": {
             "endlinecolor": "#2a3f5f",
             "gridcolor": "white",
             "linecolor": "white",
             "minorgridcolor": "white",
             "startlinecolor": "#2a3f5f"
            },
            "baxis": {
             "endlinecolor": "#2a3f5f",
             "gridcolor": "white",
             "linecolor": "white",
             "minorgridcolor": "white",
             "startlinecolor": "#2a3f5f"
            },
            "type": "carpet"
           }
          ],
          "choropleth": [
           {
            "colorbar": {
             "outlinewidth": 0,
             "ticks": ""
            },
            "type": "choropleth"
           }
          ],
          "contour": [
           {
            "colorbar": {
             "outlinewidth": 0,
             "ticks": ""
            },
            "colorscale": [
             [
              0,
              "#0d0887"
             ],
             [
              0.1111111111111111,
              "#46039f"
             ],
             [
              0.2222222222222222,
              "#7201a8"
             ],
             [
              0.3333333333333333,
              "#9c179e"
             ],
             [
              0.4444444444444444,
              "#bd3786"
             ],
             [
              0.5555555555555556,
              "#d8576b"
             ],
             [
              0.6666666666666666,
              "#ed7953"
             ],
             [
              0.7777777777777778,
              "#fb9f3a"
             ],
             [
              0.8888888888888888,
              "#fdca26"
             ],
             [
              1,
              "#f0f921"
             ]
            ],
            "type": "contour"
           }
          ],
          "contourcarpet": [
           {
            "colorbar": {
             "outlinewidth": 0,
             "ticks": ""
            },
            "type": "contourcarpet"
           }
          ],
          "heatmap": [
           {
            "colorbar": {
             "outlinewidth": 0,
             "ticks": ""
            },
            "colorscale": [
             [
              0,
              "#0d0887"
             ],
             [
              0.1111111111111111,
              "#46039f"
             ],
             [
              0.2222222222222222,
              "#7201a8"
             ],
             [
              0.3333333333333333,
              "#9c179e"
             ],
             [
              0.4444444444444444,
              "#bd3786"
             ],
             [
              0.5555555555555556,
              "#d8576b"
             ],
             [
              0.6666666666666666,
              "#ed7953"
             ],
             [
              0.7777777777777778,
              "#fb9f3a"
             ],
             [
              0.8888888888888888,
              "#fdca26"
             ],
             [
              1,
              "#f0f921"
             ]
            ],
            "type": "heatmap"
           }
          ],
          "heatmapgl": [
           {
            "colorbar": {
             "outlinewidth": 0,
             "ticks": ""
            },
            "colorscale": [
             [
              0,
              "#0d0887"
             ],
             [
              0.1111111111111111,
              "#46039f"
             ],
             [
              0.2222222222222222,
              "#7201a8"
             ],
             [
              0.3333333333333333,
              "#9c179e"
             ],
             [
              0.4444444444444444,
              "#bd3786"
             ],
             [
              0.5555555555555556,
              "#d8576b"
             ],
             [
              0.6666666666666666,
              "#ed7953"
             ],
             [
              0.7777777777777778,
              "#fb9f3a"
             ],
             [
              0.8888888888888888,
              "#fdca26"
             ],
             [
              1,
              "#f0f921"
             ]
            ],
            "type": "heatmapgl"
           }
          ],
          "histogram": [
           {
            "marker": {
             "pattern": {
              "fillmode": "overlay",
              "size": 10,
              "solidity": 0.2
             }
            },
            "type": "histogram"
           }
          ],
          "histogram2d": [
           {
            "colorbar": {
             "outlinewidth": 0,
             "ticks": ""
            },
            "colorscale": [
             [
              0,
              "#0d0887"
             ],
             [
              0.1111111111111111,
              "#46039f"
             ],
             [
              0.2222222222222222,
              "#7201a8"
             ],
             [
              0.3333333333333333,
              "#9c179e"
             ],
             [
              0.4444444444444444,
              "#bd3786"
             ],
             [
              0.5555555555555556,
              "#d8576b"
             ],
             [
              0.6666666666666666,
              "#ed7953"
             ],
             [
              0.7777777777777778,
              "#fb9f3a"
             ],
             [
              0.8888888888888888,
              "#fdca26"
             ],
             [
              1,
              "#f0f921"
             ]
            ],
            "type": "histogram2d"
           }
          ],
          "histogram2dcontour": [
           {
            "colorbar": {
             "outlinewidth": 0,
             "ticks": ""
            },
            "colorscale": [
             [
              0,
              "#0d0887"
             ],
             [
              0.1111111111111111,
              "#46039f"
             ],
             [
              0.2222222222222222,
              "#7201a8"
             ],
             [
              0.3333333333333333,
              "#9c179e"
             ],
             [
              0.4444444444444444,
              "#bd3786"
             ],
             [
              0.5555555555555556,
              "#d8576b"
             ],
             [
              0.6666666666666666,
              "#ed7953"
             ],
             [
              0.7777777777777778,
              "#fb9f3a"
             ],
             [
              0.8888888888888888,
              "#fdca26"
             ],
             [
              1,
              "#f0f921"
             ]
            ],
            "type": "histogram2dcontour"
           }
          ],
          "mesh3d": [
           {
            "colorbar": {
             "outlinewidth": 0,
             "ticks": ""
            },
            "type": "mesh3d"
           }
          ],
          "parcoords": [
           {
            "line": {
             "colorbar": {
              "outlinewidth": 0,
              "ticks": ""
             }
            },
            "type": "parcoords"
           }
          ],
          "pie": [
           {
            "automargin": true,
            "type": "pie"
           }
          ],
          "scatter": [
           {
            "fillpattern": {
             "fillmode": "overlay",
             "size": 10,
             "solidity": 0.2
            },
            "type": "scatter"
           }
          ],
          "scatter3d": [
           {
            "line": {
             "colorbar": {
              "outlinewidth": 0,
              "ticks": ""
             }
            },
            "marker": {
             "colorbar": {
              "outlinewidth": 0,
              "ticks": ""
             }
            },
            "type": "scatter3d"
           }
          ],
          "scattercarpet": [
           {
            "marker": {
             "colorbar": {
              "outlinewidth": 0,
              "ticks": ""
             }
            },
            "type": "scattercarpet"
           }
          ],
          "scattergeo": [
           {
            "marker": {
             "colorbar": {
              "outlinewidth": 0,
              "ticks": ""
             }
            },
            "type": "scattergeo"
           }
          ],
          "scattergl": [
           {
            "marker": {
             "colorbar": {
              "outlinewidth": 0,
              "ticks": ""
             }
            },
            "type": "scattergl"
           }
          ],
          "scattermapbox": [
           {
            "marker": {
             "colorbar": {
              "outlinewidth": 0,
              "ticks": ""
             }
            },
            "type": "scattermapbox"
           }
          ],
          "scatterpolar": [
           {
            "marker": {
             "colorbar": {
              "outlinewidth": 0,
              "ticks": ""
             }
            },
            "type": "scatterpolar"
           }
          ],
          "scatterpolargl": [
           {
            "marker": {
             "colorbar": {
              "outlinewidth": 0,
              "ticks": ""
             }
            },
            "type": "scatterpolargl"
           }
          ],
          "scatterternary": [
           {
            "marker": {
             "colorbar": {
              "outlinewidth": 0,
              "ticks": ""
             }
            },
            "type": "scatterternary"
           }
          ],
          "surface": [
           {
            "colorbar": {
             "outlinewidth": 0,
             "ticks": ""
            },
            "colorscale": [
             [
              0,
              "#0d0887"
             ],
             [
              0.1111111111111111,
              "#46039f"
             ],
             [
              0.2222222222222222,
              "#7201a8"
             ],
             [
              0.3333333333333333,
              "#9c179e"
             ],
             [
              0.4444444444444444,
              "#bd3786"
             ],
             [
              0.5555555555555556,
              "#d8576b"
             ],
             [
              0.6666666666666666,
              "#ed7953"
             ],
             [
              0.7777777777777778,
              "#fb9f3a"
             ],
             [
              0.8888888888888888,
              "#fdca26"
             ],
             [
              1,
              "#f0f921"
             ]
            ],
            "type": "surface"
           }
          ],
          "table": [
           {
            "cells": {
             "fill": {
              "color": "#EBF0F8"
             },
             "line": {
              "color": "white"
             }
            },
            "header": {
             "fill": {
              "color": "#C8D4E3"
             },
             "line": {
              "color": "white"
             }
            },
            "type": "table"
           }
          ]
         },
         "layout": {
          "annotationdefaults": {
           "arrowcolor": "#2a3f5f",
           "arrowhead": 0,
           "arrowwidth": 1
          },
          "autotypenumbers": "strict",
          "coloraxis": {
           "colorbar": {
            "outlinewidth": 0,
            "ticks": ""
           }
          },
          "colorscale": {
           "diverging": [
            [
             0,
             "#8e0152"
            ],
            [
             0.1,
             "#c51b7d"
            ],
            [
             0.2,
             "#de77ae"
            ],
            [
             0.3,
             "#f1b6da"
            ],
            [
             0.4,
             "#fde0ef"
            ],
            [
             0.5,
             "#f7f7f7"
            ],
            [
             0.6,
             "#e6f5d0"
            ],
            [
             0.7,
             "#b8e186"
            ],
            [
             0.8,
             "#7fbc41"
            ],
            [
             0.9,
             "#4d9221"
            ],
            [
             1,
             "#276419"
            ]
           ],
           "sequential": [
            [
             0,
             "#0d0887"
            ],
            [
             0.1111111111111111,
             "#46039f"
            ],
            [
             0.2222222222222222,
             "#7201a8"
            ],
            [
             0.3333333333333333,
             "#9c179e"
            ],
            [
             0.4444444444444444,
             "#bd3786"
            ],
            [
             0.5555555555555556,
             "#d8576b"
            ],
            [
             0.6666666666666666,
             "#ed7953"
            ],
            [
             0.7777777777777778,
             "#fb9f3a"
            ],
            [
             0.8888888888888888,
             "#fdca26"
            ],
            [
             1,
             "#f0f921"
            ]
           ],
           "sequentialminus": [
            [
             0,
             "#0d0887"
            ],
            [
             0.1111111111111111,
             "#46039f"
            ],
            [
             0.2222222222222222,
             "#7201a8"
            ],
            [
             0.3333333333333333,
             "#9c179e"
            ],
            [
             0.4444444444444444,
             "#bd3786"
            ],
            [
             0.5555555555555556,
             "#d8576b"
            ],
            [
             0.6666666666666666,
             "#ed7953"
            ],
            [
             0.7777777777777778,
             "#fb9f3a"
            ],
            [
             0.8888888888888888,
             "#fdca26"
            ],
            [
             1,
             "#f0f921"
            ]
           ]
          },
          "colorway": [
           "#636efa",
           "#EF553B",
           "#00cc96",
           "#ab63fa",
           "#FFA15A",
           "#19d3f3",
           "#FF6692",
           "#B6E880",
           "#FF97FF",
           "#FECB52"
          ],
          "font": {
           "color": "#2a3f5f"
          },
          "geo": {
           "bgcolor": "white",
           "lakecolor": "white",
           "landcolor": "#E5ECF6",
           "showlakes": true,
           "showland": true,
           "subunitcolor": "white"
          },
          "hoverlabel": {
           "align": "left"
          },
          "hovermode": "closest",
          "mapbox": {
           "style": "light"
          },
          "paper_bgcolor": "white",
          "plot_bgcolor": "#E5ECF6",
          "polar": {
           "angularaxis": {
            "gridcolor": "white",
            "linecolor": "white",
            "ticks": ""
           },
           "bgcolor": "#E5ECF6",
           "radialaxis": {
            "gridcolor": "white",
            "linecolor": "white",
            "ticks": ""
           }
          },
          "scene": {
           "xaxis": {
            "backgroundcolor": "#E5ECF6",
            "gridcolor": "white",
            "gridwidth": 2,
            "linecolor": "white",
            "showbackground": true,
            "ticks": "",
            "zerolinecolor": "white"
           },
           "yaxis": {
            "backgroundcolor": "#E5ECF6",
            "gridcolor": "white",
            "gridwidth": 2,
            "linecolor": "white",
            "showbackground": true,
            "ticks": "",
            "zerolinecolor": "white"
           },
           "zaxis": {
            "backgroundcolor": "#E5ECF6",
            "gridcolor": "white",
            "gridwidth": 2,
            "linecolor": "white",
            "showbackground": true,
            "ticks": "",
            "zerolinecolor": "white"
           }
          },
          "shapedefaults": {
           "line": {
            "color": "#2a3f5f"
           }
          },
          "ternary": {
           "aaxis": {
            "gridcolor": "white",
            "linecolor": "white",
            "ticks": ""
           },
           "baxis": {
            "gridcolor": "white",
            "linecolor": "white",
            "ticks": ""
           },
           "bgcolor": "#E5ECF6",
           "caxis": {
            "gridcolor": "white",
            "linecolor": "white",
            "ticks": ""
           }
          },
          "title": {
           "x": 0.05
          },
          "xaxis": {
           "automargin": true,
           "gridcolor": "white",
           "linecolor": "white",
           "ticks": "",
           "title": {
            "standoff": 15
           },
           "zerolinecolor": "white",
           "zerolinewidth": 2
          },
          "yaxis": {
           "automargin": true,
           "gridcolor": "white",
           "linecolor": "white",
           "ticks": "",
           "title": {
            "standoff": 15
           },
           "zerolinecolor": "white",
           "zerolinewidth": 2
          }
         }
        },
        "xaxis": {
         "anchor": "y",
         "domain": [
          0,
          1
         ],
         "title": {
          "text": "Feature"
         }
        },
        "yaxis": {
         "anchor": "x",
         "domain": [
          0,
          1
         ],
         "title": {
          "text": "values_abs"
         }
        }
       }
      }
     },
     "metadata": {},
     "output_type": "display_data"
    }
   ],
   "source": [
    "fig,res = FS('CWP_Total_KW')\n",
    "fig"
   ]
  },
  {
   "cell_type": "code",
   "execution_count": null,
   "metadata": {},
   "outputs": [],
   "source": [
    "import time\n",
    "from sklearn.preprocessing import StandardScaler\n",
    "from sklearn.linear_model import LassoLarsIC\n",
    "from sklearn.pipeline import make_pipeline\n",
    "\n",
    "start_time = time.time()\n",
    "lasso_lars_ic = make_pipeline(\n",
    "    StandardScaler(), LassoLarsIC(criterion=\"aic\", normalize=False)\n",
    ").fit(X, y)\n",
    "fit_time = time.time() - start_time"
   ]
  },
  {
   "cell_type": "code",
   "execution_count": null,
   "metadata": {},
   "outputs": [],
   "source": [
    "results = pd.DataFrame(\n",
    "    {\n",
    "        \"alphas\": lasso_lars_ic[-1].alphas_,\n",
    "        \"AIC criterion\": lasso_lars_ic[-1].criterion_,\n",
    "    }\n",
    ").set_index(\"alphas\")\n",
    "alpha_aic = lasso_lars_ic[-1].alpha_"
   ]
  },
  {
   "cell_type": "code",
   "execution_count": null,
   "metadata": {},
   "outputs": [],
   "source": [
    "lasso_lars_ic.set_params(lassolarsic__criterion=\"bic\").fit(X, y)\n",
    "results[\"BIC criterion\"] = lasso_lars_ic[-1].criterion_\n",
    "alpha_bic = lasso_lars_ic[-1].alpha_"
   ]
  },
  {
   "cell_type": "code",
   "execution_count": null,
   "metadata": {},
   "outputs": [
    {
     "data": {
      "image/png": "[encoded data removed]",
      "text/plain": [
       "<Figure size 432x288 with 1 Axes>"
      ]
     },
     "metadata": {
      "needs_background": "light"
     },
     "output_type": "display_data"
    }
   ],
   "source": [
    "ax = results.plot()\n",
    "ax.vlines(\n",
    "    alpha_aic,\n",
    "    results[\"AIC criterion\"].min(),\n",
    "    results[\"AIC criterion\"].max(),\n",
    "    label=\"alpha: AIC estimate\",\n",
    "    linestyles=\"--\",\n",
    "    color=\"tab:blue\",\n",
    ")\n",
    "ax.vlines(\n",
    "    alpha_bic,\n",
    "    results[\"BIC criterion\"].min(),\n",
    "    results[\"BIC criterion\"].max(),\n",
    "    label=\"alpha: BIC estimate\",\n",
    "    linestyle=\"--\",\n",
    "    color=\"tab:orange\",\n",
    ")\n",
    "ax.set_xlabel(r\"$\\alpha$\")\n",
    "ax.set_ylabel(\"criterion\")\n",
    "ax.set_xscale(\"log\")\n",
    "ax.legend()\n",
    "_ = ax.set_title(\n",
    "    f\"Information-criterion for model selection (training time {fit_time:.2f}s)\"\n",
    ")"
   ]
  },
  {
   "cell_type": "code",
   "execution_count": null,
   "metadata": {},
   "outputs": [],
   "source": []
  }
 ],
 "metadata": {
  "kernelspec": {
   "display_name": "Python 3.9.12 ('base')",
   "language": "python",
   "name": "python3"
  },
  "language_info": {
   "codemirror_mode": {
    "name": "ipython",
    "version": 3
   },
   "file_extension": ".py",
   "mimetype": "text/x-python",
   "name": "python",
   "nbconvert_exporter": "python",
   "pygments_lexer": "ipython3",
   "version": "3.9.12"
  },
  "orig_nbformat": 4,
  "vscode": {
   "interpreter": {
    "hash": "d034d15d2d7c1acffba98addf437dac9bfe233e75f6296b02d1e12801ba0fe1a"
   }
  }
 },
 "nbformat": 4,
 "nbformat_minor": 2
}
