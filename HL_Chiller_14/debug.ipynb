{
 "cells": [
  {
   "cell_type": "code",
   "execution_count": 1,
   "metadata": {},
   "outputs": [],
   "source": [
    "##training\n",
    "import os,pickle\n",
    "import pandas as pd\n",
    "from utils.DataProcess import Start\n",
    "from utils.ClooingTowerOptimize import CT_opt\n",
    "\n",
    "opt = CT_opt()\n",
    "opt.df = Start('HL_14')\n",
    "\n",
    "# opt.train()\n",
    "# with open(os.path.join('model','regr.pkl'), 'wb') as f:\n",
    "#     pickle.dump(opt, f)"
   ]
  },
  {
   "cell_type": "code",
   "execution_count": 2,
   "metadata": {},
   "outputs": [
    {
     "data": {
      "text/plain": [
       "False"
      ]
     },
     "execution_count": 2,
     "metadata": {},
     "output_type": "execute_result"
    }
   ],
   "source": [
    "True & False"
   ]
  },
  {
   "cell_type": "code",
   "execution_count": null,
   "metadata": {},
   "outputs": [],
   "source": []
  },
  {
   "cell_type": "code",
   "execution_count": null,
   "metadata": {},
   "outputs": [],
   "source": []
  },
  {
   "cell_type": "code",
   "execution_count": 28,
   "metadata": {},
   "outputs": [],
   "source": [
    "df = pd.read_csv(os.path.join('input','small_df.csv'))"
   ]
  },
  {
   "cell_type": "code",
   "execution_count": 22,
   "metadata": {},
   "outputs": [],
   "source": [
    "df.CH14_Tune.loc[-1] = '@14.24'"
   ]
  },
  {
   "cell_type": "code",
   "execution_count": 24,
   "metadata": {},
   "outputs": [],
   "source": [
    "df.CH14_Tune= '@14.24'"
   ]
  },
  {
   "cell_type": "code",
   "execution_count": 25,
   "metadata": {},
   "outputs": [
    {
     "data": {
      "text/plain": [
       "0      @14.24\n",
       "1      @14.24\n",
       "2      @14.24\n",
       "3      @14.24\n",
       "4      @14.24\n",
       "        ...  \n",
       "139    @14.24\n",
       "140    @14.24\n",
       "141    @14.24\n",
       "142    @14.24\n",
       "143    @14.24\n",
       "Name: CH14_Tune, Length: 144, dtype: object"
      ]
     },
     "execution_count": 25,
     "metadata": {},
     "output_type": "execute_result"
    }
   ],
   "source": [
    "df.CH14_Tune"
   ]
  },
  {
   "cell_type": "code",
   "execution_count": 29,
   "metadata": {},
   "outputs": [],
   "source": [
    "CH14_Tune = df.CH14_Tune.dropna()\n",
    "if len(CH14_Tune) == 0:\n",
    "    CH14_Tune = round(df.chiller_supply_temp.dropna().iloc[-1],2)"
   ]
  },
  {
   "cell_type": "code",
   "execution_count": 30,
   "metadata": {},
   "outputs": [
    {
     "data": {
      "text/plain": [
       "13.32"
      ]
     },
     "execution_count": 30,
     "metadata": {},
     "output_type": "execute_result"
    }
   ],
   "source": [
    "CH14_Tune"
   ]
  },
  {
   "cell_type": "code",
   "execution_count": 11,
   "metadata": {},
   "outputs": [
    {
     "data": {
      "text/plain": [
       "0      13.32498\n",
       "1      13.33945\n",
       "2      13.31051\n",
       "3      13.33945\n",
       "4      13.41179\n",
       "         ...   \n",
       "139    13.45519\n",
       "140    13.38285\n",
       "141    13.26711\n",
       "142    13.25265\n",
       "143    13.32498\n",
       "Name: chiller_supply_temp, Length: 144, dtype: float64"
      ]
     },
     "execution_count": 11,
     "metadata": {},
     "output_type": "execute_result"
    }
   ],
   "source": [
    "df.chiller_supply_temp"
   ]
  },
  {
   "cell_type": "code",
   "execution_count": 4,
   "metadata": {},
   "outputs": [
    {
     "data": {
      "text/plain": [
       "2801    10.10\n",
       "2813    14.16\n",
       "2814    14.20\n",
       "2815    14.20\n",
       "2816    14.23\n",
       "        ...  \n",
       "4183    13.50\n",
       "4184    13.50\n",
       "4185    13.50\n",
       "4186    13.50\n",
       "4187    13.50\n",
       "Name: CH14_Tune, Length: 941, dtype: float64"
      ]
     },
     "execution_count": 4,
     "metadata": {},
     "output_type": "execute_result"
    }
   ],
   "source": [
    "opt.df.CH14_Tune.dropna()"
   ]
  },
  {
   "cell_type": "code",
   "execution_count": 3,
   "metadata": {},
   "outputs": [],
   "source": [
    "## Reset pickle\n",
    "\n",
    "# df = pd.read_csv(os.path.join('input','small_df.csv'))\n",
    "# df1 = df.iloc[-1]\n",
    "# res = {}\n",
    "# res['Dtime'] = pd.to_datetime(df1.Datetime)\n",
    "# res['CH_low'] = 13.5\n",
    "# res['CH_high'] = 15.0\n",
    "# res['select'] = []\n",
    "# res['AI_supply_temp'] = 14.0\n",
    "# res['CT_low'] = 21.5\n",
    "# res['CT_high'] = 26.0\n",
    "# res['best_CT'] = 23.0\n",
    "# with open(os.path.join('config','setting.pkl'), 'wb') as f:\n",
    "#     pickle.dump(res, f)"
   ]
  },
  {
   "cell_type": "code",
   "execution_count": 9,
   "metadata": {},
   "outputs": [],
   "source": [
    "with open(os.path.join('config','setting.pkl'), 'rb') as f:\n",
    "    res = pickle.load(f)"
   ]
  },
  {
   "cell_type": "code",
   "execution_count": null,
   "metadata": {},
   "outputs": [],
   "source": []
  },
  {
   "cell_type": "code",
   "execution_count": null,
   "metadata": {},
   "outputs": [],
   "source": []
  }
 ],
 "metadata": {
  "kernelspec": {
   "display_name": "Python 3.9.12 ('base')",
   "language": "python",
   "name": "python3"
  },
  "language_info": {
   "codemirror_mode": {
    "name": "ipython",
    "version": 3
   },
   "file_extension": ".py",
   "mimetype": "text/x-python",
   "name": "python",
   "nbconvert_exporter": "python",
   "pygments_lexer": "ipython3",
   "version": "3.9.12"
  },
  "orig_nbformat": 4,
  "vscode": {
   "interpreter": {
    "hash": "d034d15d2d7c1acffba98addf437dac9bfe233e75f6296b02d1e12801ba0fe1a"
   }
  }
 },
 "nbformat": 4,
 "nbformat_minor": 2
}
