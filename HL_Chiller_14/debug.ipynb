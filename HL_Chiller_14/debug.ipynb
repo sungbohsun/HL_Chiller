{
 "cells": [
  {
   "cell_type": "code",
   "execution_count": 2,
   "metadata": {},
   "outputs": [],
   "source": [
    "##training\n",
    "import os,pickle\n",
    "import pandas as pd\n",
    "from utils.DataProcess import Start\n",
    "from utils.ClooingTowerOptimize import CT_opt\n",
    "\n",
    "opt = CT_opt()\n",
    "opt.df = Start('HL_14')\n",
    "\n",
    "opt.train()\n",
    "with open(os.path.join('model','regr.pkl'), 'wb') as f:\n",
    "    pickle.dump(opt, f)"
   ]
  },
  {
   "cell_type": "code",
   "execution_count": 3,
   "metadata": {},
   "outputs": [],
   "source": [
    "## Reset pickle\n",
    "\n",
    "# df = pd.read_csv(os.path.join('input','small_df.csv'))\n",
    "# df1 = df.iloc[-1]\n",
    "# res = {}\n",
    "# res['Dtime'] = pd.to_datetime(df1.Datetime)\n",
    "# res['CH_low'] = 13.5\n",
    "# res['CH_high'] = 15.0\n",
    "# res['select'] = []\n",
    "# res['AI_supply_temp'] = 14.0\n",
    "# res['CT_low'] = 21.5\n",
    "# res['CT_high'] = 26.0\n",
    "# res['best_CT'] = 23.0\n",
    "# with open(os.path.join('config','setting.pkl'), 'wb') as f:\n",
    "#     pickle.dump(res, f)"
   ]
  },
  {
   "cell_type": "code",
   "execution_count": 9,
   "metadata": {},
   "outputs": [],
   "source": [
    "with open(os.path.join('config','setting.pkl'), 'rb') as f:\n",
    "    res = pickle.load(f)"
   ]
  },
  {
   "cell_type": "code",
   "execution_count": null,
   "metadata": {},
   "outputs": [],
   "source": []
  },
  {
   "cell_type": "code",
   "execution_count": null,
   "metadata": {},
   "outputs": [],
   "source": []
  }
 ],
 "metadata": {
  "kernelspec": {
   "display_name": "Python 3.9.12 ('base')",
   "language": "python",
   "name": "python3"
  },
  "language_info": {
   "codemirror_mode": {
    "name": "ipython",
    "version": 3
   },
   "file_extension": ".py",
   "mimetype": "text/x-python",
   "name": "python",
   "nbconvert_exporter": "python",
   "pygments_lexer": "ipython3",
   "version": "3.9.12"
  },
  "orig_nbformat": 4,
  "vscode": {
   "interpreter": {
    "hash": "d034d15d2d7c1acffba98addf437dac9bfe233e75f6296b02d1e12801ba0fe1a"
   }
  }
 },
 "nbformat": 4,
 "nbformat_minor": 2
}
