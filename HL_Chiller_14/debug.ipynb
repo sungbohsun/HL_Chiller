{
 "cells": [
  {
   "cell_type": "code",
   "execution_count": 2,
   "metadata": {},
   "outputs": [],
   "source": [
    "##training\n",
    "import os,pickle\n",
    "import pandas as pd\n",
    "from utils.DataProcess import Start\n",
    "from utils.ClooingTowerOptimize import CT_opt\n",
    "\n",
    "opt = CT_opt()\n",
    "opt.df = Start('HL_14')\n",
    "\n",
    "# opt.train()\n",
    "# with open(os.path.join('model','regr.pkl'), 'wb') as f:\n",
    "#     pickle.dump(opt, f)"
   ]
  },
  {
   "cell_type": "code",
   "execution_count": 3,
   "metadata": {},
   "outputs": [
    {
     "data": {
      "text/plain": [
       "['Unnamed: 0',\n",
       " 'ID',\n",
       " 'Datetime',\n",
       " 'OA_TT1',\n",
       " 'OA_MT1',\n",
       " 'Enthalpy',\n",
       " 'OA_TT2',\n",
       " 'OA_MT2',\n",
       " 'OA_E2',\n",
       " 'CT_WDT',\n",
       " 'chiller_kwh',\n",
       " 'CH14_KPI',\n",
       " 'chiller_flow',\n",
       " 'CH14_CWP_FT',\n",
       " 'chiller_supply_temp',\n",
       " 'chiller_return_temp',\n",
       " 'CT_Out_T',\n",
       " 'condenser_return_temp',\n",
       " 'CT_01_VFD',\n",
       " 'CT_03_VFD',\n",
       " 'CT_05_VFD',\n",
       " 'CT_07_VFD',\n",
       " 'CT_09_VFD',\n",
       " 'CT_11_VFD',\n",
       " 'CT_13_VFD',\n",
       " 'CT_Total_KW',\n",
       " 'RAC_10_127_Output',\n",
       " 'RAC_10_130_Output',\n",
       " 'RAC_10_131_Output',\n",
       " 'RAC_10_132_Output',\n",
       " 'RAC_10_133_Output',\n",
       " 'RAC_10_134_Output',\n",
       " 'RAC_10_135_Output',\n",
       " 'RAC_10_136_Output',\n",
       " 'RAC_10_137_Output',\n",
       " 'RAC_L20_Output',\n",
       " 'L35_CR_Z01_Output',\n",
       " 'L35_CR_Z02_Output',\n",
       " 'L35_CR_Z03_Output',\n",
       " 'L35_CR_Z04_Output',\n",
       " 'L35_CR_Z05_Output',\n",
       " 'L35_CR_Z06_Output',\n",
       " 'L35_CR_Z07_Output',\n",
       " 'L35_CR_Z08_Output',\n",
       " 'L35_CR_Z09_Output',\n",
       " 'L35_CR_Z10_Output',\n",
       " 'L35_CR_Z11_Output',\n",
       " 'L35_CR_Z12_Output',\n",
       " 'L35_CR_Z13_Output',\n",
       " 'L35_CR_Z14_Output',\n",
       " 'L35_CR_Z15_Output',\n",
       " 'L35_CR_Z16_Output',\n",
       " 'L35_CR_Z17_Output',\n",
       " 'L35_CR_Z18_Output',\n",
       " 'L35_CR_Z19_Output',\n",
       " 'L35_CR_Z20_Output',\n",
       " 'L35_CR_Z21_Output',\n",
       " 'L35_CR_Z22_Output',\n",
       " 'L35_CR_Z23_Output',\n",
       " 'L35_CR_Z24_Output',\n",
       " 'L35_CR_Z25_Output',\n",
       " 'L35_CR_Z26_Output',\n",
       " 'L35_CR_Z27_Output',\n",
       " 'L40_CR_Z04_Output',\n",
       " 'L40_CR_Z05_Output',\n",
       " 'L45_CR_Z01_Output',\n",
       " 'L45_CR_Z02_Output',\n",
       " 'L45_CR_Z03_Output',\n",
       " 'L45_CR_Z04_Output',\n",
       " 'L45_CR_Z05_Output',\n",
       " 'L45_CR_Z06_Output',\n",
       " 'L45_CR_Z07_Output',\n",
       " 'L60_CR_Z01_Output',\n",
       " 'L50_CR_Z01_Output',\n",
       " 'L50_CR_Z02_Output',\n",
       " 'L50_CR_Z03_Output',\n",
       " 'L50_CR_Z04_Output',\n",
       " 'L60_CR_Z02_Output',\n",
       " 'L60_CR_Z03_Output',\n",
       " 'L60_CR_Z04_Output',\n",
       " 'L60_CR_Z05_Output',\n",
       " 'L60_CR_Z06_Output',\n",
       " 'L60_CR_Z07_Output',\n",
       " 'L60_CR_Z08_Output',\n",
       " 'L60_CR_Z09_Output',\n",
       " 'L60_CR_Z10_Output',\n",
       " 'L60_CR_Z11_Output',\n",
       " 'L60_CR_Z12_Output',\n",
       " 'L60_CR_Z13_Output',\n",
       " 'L60_CR_Z14_Output',\n",
       " 'L60_CR_Z15_Output',\n",
       " 'L60_CR_Z16_Output',\n",
       " 'L60_CR_Z17_Output',\n",
       " 'L60_CR_Z18_Output',\n",
       " 'L60_CR_Z20_Output',\n",
       " 'L60_CR_Z21_Output',\n",
       " 'L60_CR_Z22_Output',\n",
       " 'L60_CR_Z23_Output',\n",
       " 'L60_CR_Z24_Output',\n",
       " 'L60_CR_Z25_Output',\n",
       " 'L60_CR_Z26_Output',\n",
       " 'L60_CR_Z27_Output',\n",
       " 'L60_CR_Z28_Output',\n",
       " 'L60_CR_Z29_Output',\n",
       " 'RAC_70_101_Output',\n",
       " 'RAC_70_102_Output',\n",
       " 'RAC_70_103_Output',\n",
       " 'RAC_70_104_Output',\n",
       " 'RAC_B1_101_Output',\n",
       " 'RAC_B1_104_Output',\n",
       " 'RAC_B1_105_Output',\n",
       " 'RAC_B1_106_Output',\n",
       " 'RAC_B1_107_Output',\n",
       " 'RAC_B1_108_Output',\n",
       " 'RAC_B1_109_Output',\n",
       " 'RAC_B1_110_Output',\n",
       " 'RAC_B1_111_Output',\n",
       " 'RAC_B1_112_Output',\n",
       " 'RAC_B1_116_Output',\n",
       " 'RAC_B1_117_Output',\n",
       " 'RAC_B1_118_Output',\n",
       " 'RAC_B1_119_Output',\n",
       " 'RAC_B1_120_Output',\n",
       " 'RAC_B1_121_Output',\n",
       " 'RAC_B1_122_Output',\n",
       " 'RAC_B1_123_Output',\n",
       " 'RAC_B1_124_Output',\n",
       " 'RAC_B1_125_Output',\n",
       " 'RAC_B1_126_Output',\n",
       " 'chiller_01_supply_temp',\n",
       " 'chiller_01_kwh_A',\n",
       " 'chiller_01_kwh_B',\n",
       " 'chiller_02_supply_temp',\n",
       " 'chiller_02_kwh_A',\n",
       " 'chiller_02_kwh_B',\n",
       " 'chiller_03_supply_temp',\n",
       " 'chiller_03_kwh_A',\n",
       " 'chiller_03_kwh_B',\n",
       " 'chiller_04_supply_temp',\n",
       " 'chiller_04_kwh_A',\n",
       " 'chiller_04_kwh_B',\n",
       " 'chiller_05_supply_temp',\n",
       " 'chiller_05_kwh_A',\n",
       " 'chiller_05_kwh_B',\n",
       " 'chiller_06_supply_temp',\n",
       " 'chiller_06_kwh_A',\n",
       " 'chiller_06_kwh_B',\n",
       " 'chiller_07_supply_temp',\n",
       " 'chiller_07_kwh_A',\n",
       " 'chiller_07_kwh_B',\n",
       " 'chiller_08_supply_temp',\n",
       " 'chiller_08_kwh_A',\n",
       " 'chiller_08_kwh_B',\n",
       " 'chiller_09_supply_temp',\n",
       " 'chiller_09_kwh_A',\n",
       " 'chiller_09_kwh_B',\n",
       " 'CH14_RT',\n",
       " 'CH14_PDTA',\n",
       " 'CH14_PDTB',\n",
       " 'CH14_PDT_PID_PV',\n",
       " 'CHP_VQ_PID_Output',\n",
       " 'CHP_Total_KW',\n",
       " 'CWP_Total_KW',\n",
       " 'CHP_01_VFD',\n",
       " 'CHP_02_VFD',\n",
       " 'CHP_03_VFD',\n",
       " 'CHP_04_VFD',\n",
       " 'CHP_05_VFD',\n",
       " 'CHP_06_VFD',\n",
       " 'CHP_07_VFD',\n",
       " 'CHP_08_VFD',\n",
       " 'CHP_09_VFD',\n",
       " 'CH14_TDT_PID_PV',\n",
       " 'CWP_VQ_PID_Output',\n",
       " 'CWP_01_VFD',\n",
       " 'CWP_02_VFD',\n",
       " 'CWP_03_VFD',\n",
       " 'CWP_04_VFD',\n",
       " 'CWP_05_VFD',\n",
       " 'CWP_06_VFD',\n",
       " 'CWP_07_VFD',\n",
       " 'CWP_08_VFD',\n",
       " 'CWP_09_VFD',\n",
       " 'CWP_10_VFD',\n",
       " 'PCW_01_Output',\n",
       " 'PCW_02_Output',\n",
       " 'PCW_03_Output',\n",
       " 'PCW_04_Output',\n",
       " 'PCW_05_Output',\n",
       " 'PCW_06_Output',\n",
       " 'CDA06_Oil_T',\n",
       " 'CDA07_Oil_T',\n",
       " 'chiller_01_loading_A',\n",
       " 'chiller_01_loading_B',\n",
       " 'chiller_02_loading_A',\n",
       " 'chiller_02_loading_B',\n",
       " 'chiller_03_loading_A',\n",
       " 'chiller_03_loading_B',\n",
       " 'chiller_04_loading_A',\n",
       " 'chiller_04_loading_B',\n",
       " 'chiller_05_loading_A',\n",
       " 'chiller_05_loading_B',\n",
       " 'chiller_06_loading_A',\n",
       " 'chiller_06_loading_B',\n",
       " 'chiller_07_loading_A',\n",
       " 'chiller_07_loading_B',\n",
       " 'chiller_08_loading_A',\n",
       " 'chiller_08_loading_B',\n",
       " 'chiller_09_loading_A',\n",
       " 'chiller_09_loading_B',\n",
       " 'CT01_Kw',\n",
       " 'CT03_Kw',\n",
       " 'CT05_Kw',\n",
       " 'CT07_Kw',\n",
       " 'CT09_Kw',\n",
       " 'CT11_Kw',\n",
       " 'CT13_Kw',\n",
       " 'CH_SYS_KPI',\n",
       " 'CT_VQ_PID_Output',\n",
       " 'condenser_supply_temp',\n",
       " 'chiller_01_return_temp',\n",
       " 'chiller_02_return_temp',\n",
       " 'chiller_03_return_temp',\n",
       " 'chiller_04_return_temp',\n",
       " 'chiller_05_return_temp',\n",
       " 'chiller_06_return_temp',\n",
       " 'chiller_07_return_temp',\n",
       " 'chiller_08_return_temp',\n",
       " 'chiller_09_return_temp',\n",
       " 'CT_sug_temp',\n",
       " 'CH14_Tune',\n",
       " 'CH_1_sug_temp',\n",
       " 'CH_2_sug_temp',\n",
       " 'CH_3_sug_temp',\n",
       " 'CH_4_sug_temp',\n",
       " 'CH_5_sug_temp',\n",
       " 'CH_6_sug_temp',\n",
       " 'CH_7_sug_temp',\n",
       " 'CH_8_sug_temp',\n",
       " 'CH_9_sug_temp',\n",
       " 'CT_spread_sug_temp',\n",
       " 'CT_WDT_A',\n",
       " 'Wet_bulb_temp',\n",
       " 'system_kwh',\n",
       " 'chiller_RT',\n",
       " 'chiller_01_kwh',\n",
       " 'chiller_01_flow',\n",
       " 'chiller_01_loading',\n",
       " 'chiller_02_kwh',\n",
       " 'chiller_02_flow',\n",
       " 'chiller_02_loading',\n",
       " 'chiller_03_kwh',\n",
       " 'chiller_03_flow',\n",
       " 'chiller_03_loading',\n",
       " 'chiller_04_kwh',\n",
       " 'chiller_04_flow',\n",
       " 'chiller_04_loading',\n",
       " 'chiller_05_kwh',\n",
       " 'chiller_05_flow',\n",
       " 'chiller_05_loading',\n",
       " 'chiller_06_kwh',\n",
       " 'chiller_06_flow',\n",
       " 'chiller_06_loading',\n",
       " 'chiller_07_kwh',\n",
       " 'chiller_07_flow',\n",
       " 'chiller_07_loading',\n",
       " 'chiller_08_kwh',\n",
       " 'chiller_08_flow',\n",
       " 'chiller_08_loading',\n",
       " 'chiller_09_kwh',\n",
       " 'chiller_09_flow',\n",
       " 'chiller_09_loading',\n",
       " 'condenser_temp_diff',\n",
       " 'loading',\n",
       " 'CT_hz_max',\n",
       " 'system_KPI',\n",
       " 'Approach',\n",
       " 'CT_eff']"
      ]
     },
     "execution_count": 3,
     "metadata": {},
     "output_type": "execute_result"
    }
   ],
   "source": [
    "list(opt.df.columns)"
   ]
  },
  {
   "cell_type": "code",
   "execution_count": 2,
   "metadata": {},
   "outputs": [
    {
     "data": {
      "text/plain": [
       "False"
      ]
     },
     "execution_count": 2,
     "metadata": {},
     "output_type": "execute_result"
    }
   ],
   "source": [
    "True & False"
   ]
  },
  {
   "cell_type": "code",
   "execution_count": null,
   "metadata": {},
   "outputs": [],
   "source": []
  },
  {
   "cell_type": "code",
   "execution_count": null,
   "metadata": {},
   "outputs": [],
   "source": []
  },
  {
   "cell_type": "code",
   "execution_count": 28,
   "metadata": {},
   "outputs": [],
   "source": [
    "df = pd.read_csv(os.path.join('input','small_df.csv'))"
   ]
  },
  {
   "cell_type": "code",
   "execution_count": 22,
   "metadata": {},
   "outputs": [],
   "source": [
    "df.CH14_Tune.loc[-1] = '@14.24'"
   ]
  },
  {
   "cell_type": "code",
   "execution_count": 24,
   "metadata": {},
   "outputs": [],
   "source": [
    "df.CH14_Tune= '@14.24'"
   ]
  },
  {
   "cell_type": "code",
   "execution_count": 25,
   "metadata": {},
   "outputs": [
    {
     "data": {
      "text/plain": [
       "0      @14.24\n",
       "1      @14.24\n",
       "2      @14.24\n",
       "3      @14.24\n",
       "4      @14.24\n",
       "        ...  \n",
       "139    @14.24\n",
       "140    @14.24\n",
       "141    @14.24\n",
       "142    @14.24\n",
       "143    @14.24\n",
       "Name: CH14_Tune, Length: 144, dtype: object"
      ]
     },
     "execution_count": 25,
     "metadata": {},
     "output_type": "execute_result"
    }
   ],
   "source": [
    "df.CH14_Tune"
   ]
  },
  {
   "cell_type": "code",
   "execution_count": 29,
   "metadata": {},
   "outputs": [],
   "source": [
    "CH14_Tune = df.CH14_Tune.dropna()\n",
    "if len(CH14_Tune) == 0:\n",
    "    CH14_Tune = round(df.chiller_supply_temp.dropna().iloc[-1],2)"
   ]
  },
  {
   "cell_type": "code",
   "execution_count": 30,
   "metadata": {},
   "outputs": [
    {
     "data": {
      "text/plain": [
       "13.32"
      ]
     },
     "execution_count": 30,
     "metadata": {},
     "output_type": "execute_result"
    }
   ],
   "source": [
    "CH14_Tune"
   ]
  },
  {
   "cell_type": "code",
   "execution_count": 11,
   "metadata": {},
   "outputs": [
    {
     "data": {
      "text/plain": [
       "0      13.32498\n",
       "1      13.33945\n",
       "2      13.31051\n",
       "3      13.33945\n",
       "4      13.41179\n",
       "         ...   \n",
       "139    13.45519\n",
       "140    13.38285\n",
       "141    13.26711\n",
       "142    13.25265\n",
       "143    13.32498\n",
       "Name: chiller_supply_temp, Length: 144, dtype: float64"
      ]
     },
     "execution_count": 11,
     "metadata": {},
     "output_type": "execute_result"
    }
   ],
   "source": [
    "df.chiller_supply_temp"
   ]
  },
  {
   "cell_type": "code",
   "execution_count": 4,
   "metadata": {},
   "outputs": [
    {
     "data": {
      "text/plain": [
       "2801    10.10\n",
       "2813    14.16\n",
       "2814    14.20\n",
       "2815    14.20\n",
       "2816    14.23\n",
       "        ...  \n",
       "4183    13.50\n",
       "4184    13.50\n",
       "4185    13.50\n",
       "4186    13.50\n",
       "4187    13.50\n",
       "Name: CH14_Tune, Length: 941, dtype: float64"
      ]
     },
     "execution_count": 4,
     "metadata": {},
     "output_type": "execute_result"
    }
   ],
   "source": [
    "opt.df.CH14_Tune.dropna()"
   ]
  },
  {
   "cell_type": "code",
   "execution_count": 3,
   "metadata": {},
   "outputs": [],
   "source": [
    "## Reset pickle\n",
    "\n",
    "# df = pd.read_csv(os.path.join('input','small_df.csv'))\n",
    "# df1 = df.iloc[-1]\n",
    "# res = {}\n",
    "# res['Dtime'] = pd.to_datetime(df1.Datetime)\n",
    "# res['CH_low'] = 13.5\n",
    "# res['CH_high'] = 15.0\n",
    "# res['select'] = []\n",
    "# res['AI_supply_temp'] = 14.0\n",
    "# res['CT_low'] = 21.5\n",
    "# res['CT_high'] = 26.0\n",
    "# res['best_CT'] = 23.0\n",
    "# with open(os.path.join('config','setting.pkl'), 'wb') as f:\n",
    "#     pickle.dump(res, f)"
   ]
  },
  {
   "cell_type": "code",
   "execution_count": 9,
   "metadata": {},
   "outputs": [],
   "source": [
    "with open(os.path.join('config','setting.pkl'), 'rb') as f:\n",
    "    res = pickle.load(f)"
   ]
  },
  {
   "cell_type": "code",
   "execution_count": null,
   "metadata": {},
   "outputs": [],
   "source": []
  },
  {
   "cell_type": "code",
   "execution_count": null,
   "metadata": {},
   "outputs": [],
   "source": []
  }
 ],
 "metadata": {
  "kernelspec": {
   "display_name": "Python 3.8.10 64-bit",
   "language": "python",
   "name": "python3"
  },
  "language_info": {
   "codemirror_mode": {
    "name": "ipython",
    "version": 3
   },
   "file_extension": ".py",
   "mimetype": "text/x-python",
   "name": "python",
   "nbconvert_exporter": "python",
   "pygments_lexer": "ipython3",
   "version": "3.8.10"
  },
  "orig_nbformat": 4,
  "vscode": {
   "interpreter": {
    "hash": "3a3cc93ce9281c89636725366e0f292ba18fd5cc1b82da29fc592f62ce93d39c"
   }
  }
 },
 "nbformat": 4,
 "nbformat_minor": 2
}
